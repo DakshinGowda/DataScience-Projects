{
 "cells": [
  {
   "cell_type": "markdown",
   "metadata": {},
   "source": [
    "# Lead Score - Case Study"
   ]
  },
  {
   "cell_type": "markdown",
   "metadata": {},
   "source": [
    "## Problem Statement\n",
    "An X Education need help to select the most promising leads, i.e. the leads that are most likely to convert into paying customers. The company requires us to build a model wherein you need to assign a lead score to each of the leads such that the customers with higher lead score have a higher conversion chance and the customers with lower lead score have a lower conversion chance. The CEO, in particular, has given a ballpark of the target lead conversion rate to be around 80%. <br>\n",
    "## Goals and Objectives\n",
    "There are quite a few goals for this case study.\n",
    "- Build a logistic regression model to assign a lead score between 0 and 100 to each of the leads which can be used by the company to target potential leads. A higher score would mean that the lead is hot, i.e. is most likely to convert whereas a lower score would mean that the lead is cold and will mostly not get converted.\n",
    "- There are some more problems presented by the company which your model should be able to adjust to if the company's requirement changes in the future so you will need to handle these as well. These problems are provided in a separate doc file. Please fill it based on the logistic regression model you got in the first step. Also, make sure you include this in your final PPT where you'll make recommendations."
   ]
  },
  {
   "cell_type": "code",
   "execution_count": 1,
   "metadata": {
    "id": "YbrDMArWVlg0"
   },
   "outputs": [],
   "source": [
    "# Importing all necessary libraries\n",
    "import pandas as pd\n",
    "import numpy as np\n",
    "import warnings \n",
    "import datetime\n",
    "warnings.filterwarnings('ignore')\n",
    "pd.set_option('display.max_rows', 500)\n",
    "pd.set_option('display.max_columns', 500)"
   ]
  },
  {
   "cell_type": "markdown",
   "metadata": {
    "id": "YidBy99eCf-t"
   },
   "source": [
    "## 1.Importing the data"
   ]
  },
  {
   "cell_type": "code",
   "execution_count": 2,
   "metadata": {
    "id": "3QXtsJzPVuy3"
   },
   "outputs": [],
   "source": [
    "# Loading the data \n",
    "df = pd.read_csv('Leads.csv')"
   ]
  },
  {
   "cell_type": "markdown",
   "metadata": {
    "id": "nncYr_S1CoN6"
   },
   "source": [
    "###  Inspect the dataframe\n",
    "This helps to give a good idea of the dataframes."
   ]
  },
  {
   "cell_type": "code",
   "execution_count": 3,
   "metadata": {
    "colab": {
     "base_uri": "https://localhost:8080/",
     "height": 534
    },
    "id": "gCTNsDOkCzzx",
    "outputId": "d79ae24d-2888-4be9-f963-24f12f6d0ff2"
   },
   "outputs": [
    {
     "data": {
      "text/html": [
       "<div>\n",
       "<style scoped>\n",
       "    .dataframe tbody tr th:only-of-type {\n",
       "        vertical-align: middle;\n",
       "    }\n",
       "\n",
       "    .dataframe tbody tr th {\n",
       "        vertical-align: top;\n",
       "    }\n",
       "\n",
       "    .dataframe thead th {\n",
       "        text-align: right;\n",
       "    }\n",
       "</style>\n",
       "<table border=\"1\" class=\"dataframe\">\n",
       "  <thead>\n",
       "    <tr style=\"text-align: right;\">\n",
       "      <th></th>\n",
       "      <th>Prospect ID</th>\n",
       "      <th>Lead Number</th>\n",
       "      <th>Lead Origin</th>\n",
       "      <th>Lead Source</th>\n",
       "      <th>Do Not Email</th>\n",
       "      <th>Do Not Call</th>\n",
       "      <th>Converted</th>\n",
       "      <th>TotalVisits</th>\n",
       "      <th>Total Time Spent on Website</th>\n",
       "      <th>Page Views Per Visit</th>\n",
       "      <th>Last Activity</th>\n",
       "      <th>Country</th>\n",
       "      <th>Specialization</th>\n",
       "      <th>How did you hear about X Education</th>\n",
       "      <th>What is your current occupation</th>\n",
       "      <th>What matters most to you in choosing a course</th>\n",
       "      <th>Search</th>\n",
       "      <th>Magazine</th>\n",
       "      <th>Newspaper Article</th>\n",
       "      <th>X Education Forums</th>\n",
       "      <th>Newspaper</th>\n",
       "      <th>Digital Advertisement</th>\n",
       "      <th>Through Recommendations</th>\n",
       "      <th>Receive More Updates About Our Courses</th>\n",
       "      <th>Tags</th>\n",
       "      <th>Lead Quality</th>\n",
       "      <th>Update me on Supply Chain Content</th>\n",
       "      <th>Get updates on DM Content</th>\n",
       "      <th>Lead Profile</th>\n",
       "      <th>City</th>\n",
       "      <th>Asymmetrique Activity Index</th>\n",
       "      <th>Asymmetrique Profile Index</th>\n",
       "      <th>Asymmetrique Activity Score</th>\n",
       "      <th>Asymmetrique Profile Score</th>\n",
       "      <th>I agree to pay the amount through cheque</th>\n",
       "      <th>A free copy of Mastering The Interview</th>\n",
       "      <th>Last Notable Activity</th>\n",
       "    </tr>\n",
       "  </thead>\n",
       "  <tbody>\n",
       "    <tr>\n",
       "      <th>0</th>\n",
       "      <td>7927b2df-8bba-4d29-b9a2-b6e0beafe620</td>\n",
       "      <td>660737</td>\n",
       "      <td>API</td>\n",
       "      <td>Olark Chat</td>\n",
       "      <td>No</td>\n",
       "      <td>No</td>\n",
       "      <td>0</td>\n",
       "      <td>0.0</td>\n",
       "      <td>0</td>\n",
       "      <td>0.0</td>\n",
       "      <td>Page Visited on Website</td>\n",
       "      <td>NaN</td>\n",
       "      <td>Select</td>\n",
       "      <td>Select</td>\n",
       "      <td>Unemployed</td>\n",
       "      <td>Better Career Prospects</td>\n",
       "      <td>No</td>\n",
       "      <td>No</td>\n",
       "      <td>No</td>\n",
       "      <td>No</td>\n",
       "      <td>No</td>\n",
       "      <td>No</td>\n",
       "      <td>No</td>\n",
       "      <td>No</td>\n",
       "      <td>Interested in other courses</td>\n",
       "      <td>Low in Relevance</td>\n",
       "      <td>No</td>\n",
       "      <td>No</td>\n",
       "      <td>Select</td>\n",
       "      <td>Select</td>\n",
       "      <td>02.Medium</td>\n",
       "      <td>02.Medium</td>\n",
       "      <td>15.0</td>\n",
       "      <td>15.0</td>\n",
       "      <td>No</td>\n",
       "      <td>No</td>\n",
       "      <td>Modified</td>\n",
       "    </tr>\n",
       "    <tr>\n",
       "      <th>1</th>\n",
       "      <td>2a272436-5132-4136-86fa-dcc88c88f482</td>\n",
       "      <td>660728</td>\n",
       "      <td>API</td>\n",
       "      <td>Organic Search</td>\n",
       "      <td>No</td>\n",
       "      <td>No</td>\n",
       "      <td>0</td>\n",
       "      <td>5.0</td>\n",
       "      <td>674</td>\n",
       "      <td>2.5</td>\n",
       "      <td>Email Opened</td>\n",
       "      <td>India</td>\n",
       "      <td>Select</td>\n",
       "      <td>Select</td>\n",
       "      <td>Unemployed</td>\n",
       "      <td>Better Career Prospects</td>\n",
       "      <td>No</td>\n",
       "      <td>No</td>\n",
       "      <td>No</td>\n",
       "      <td>No</td>\n",
       "      <td>No</td>\n",
       "      <td>No</td>\n",
       "      <td>No</td>\n",
       "      <td>No</td>\n",
       "      <td>Ringing</td>\n",
       "      <td>NaN</td>\n",
       "      <td>No</td>\n",
       "      <td>No</td>\n",
       "      <td>Select</td>\n",
       "      <td>Select</td>\n",
       "      <td>02.Medium</td>\n",
       "      <td>02.Medium</td>\n",
       "      <td>15.0</td>\n",
       "      <td>15.0</td>\n",
       "      <td>No</td>\n",
       "      <td>No</td>\n",
       "      <td>Email Opened</td>\n",
       "    </tr>\n",
       "    <tr>\n",
       "      <th>2</th>\n",
       "      <td>8cc8c611-a219-4f35-ad23-fdfd2656bd8a</td>\n",
       "      <td>660727</td>\n",
       "      <td>Landing Page Submission</td>\n",
       "      <td>Direct Traffic</td>\n",
       "      <td>No</td>\n",
       "      <td>No</td>\n",
       "      <td>1</td>\n",
       "      <td>2.0</td>\n",
       "      <td>1532</td>\n",
       "      <td>2.0</td>\n",
       "      <td>Email Opened</td>\n",
       "      <td>India</td>\n",
       "      <td>Business Administration</td>\n",
       "      <td>Select</td>\n",
       "      <td>Student</td>\n",
       "      <td>Better Career Prospects</td>\n",
       "      <td>No</td>\n",
       "      <td>No</td>\n",
       "      <td>No</td>\n",
       "      <td>No</td>\n",
       "      <td>No</td>\n",
       "      <td>No</td>\n",
       "      <td>No</td>\n",
       "      <td>No</td>\n",
       "      <td>Will revert after reading the email</td>\n",
       "      <td>Might be</td>\n",
       "      <td>No</td>\n",
       "      <td>No</td>\n",
       "      <td>Potential Lead</td>\n",
       "      <td>Mumbai</td>\n",
       "      <td>02.Medium</td>\n",
       "      <td>01.High</td>\n",
       "      <td>14.0</td>\n",
       "      <td>20.0</td>\n",
       "      <td>No</td>\n",
       "      <td>Yes</td>\n",
       "      <td>Email Opened</td>\n",
       "    </tr>\n",
       "    <tr>\n",
       "      <th>3</th>\n",
       "      <td>0cc2df48-7cf4-4e39-9de9-19797f9b38cc</td>\n",
       "      <td>660719</td>\n",
       "      <td>Landing Page Submission</td>\n",
       "      <td>Direct Traffic</td>\n",
       "      <td>No</td>\n",
       "      <td>No</td>\n",
       "      <td>0</td>\n",
       "      <td>1.0</td>\n",
       "      <td>305</td>\n",
       "      <td>1.0</td>\n",
       "      <td>Unreachable</td>\n",
       "      <td>India</td>\n",
       "      <td>Media and Advertising</td>\n",
       "      <td>Word Of Mouth</td>\n",
       "      <td>Unemployed</td>\n",
       "      <td>Better Career Prospects</td>\n",
       "      <td>No</td>\n",
       "      <td>No</td>\n",
       "      <td>No</td>\n",
       "      <td>No</td>\n",
       "      <td>No</td>\n",
       "      <td>No</td>\n",
       "      <td>No</td>\n",
       "      <td>No</td>\n",
       "      <td>Ringing</td>\n",
       "      <td>Not Sure</td>\n",
       "      <td>No</td>\n",
       "      <td>No</td>\n",
       "      <td>Select</td>\n",
       "      <td>Mumbai</td>\n",
       "      <td>02.Medium</td>\n",
       "      <td>01.High</td>\n",
       "      <td>13.0</td>\n",
       "      <td>17.0</td>\n",
       "      <td>No</td>\n",
       "      <td>No</td>\n",
       "      <td>Modified</td>\n",
       "    </tr>\n",
       "    <tr>\n",
       "      <th>4</th>\n",
       "      <td>3256f628-e534-4826-9d63-4a8b88782852</td>\n",
       "      <td>660681</td>\n",
       "      <td>Landing Page Submission</td>\n",
       "      <td>Google</td>\n",
       "      <td>No</td>\n",
       "      <td>No</td>\n",
       "      <td>1</td>\n",
       "      <td>2.0</td>\n",
       "      <td>1428</td>\n",
       "      <td>1.0</td>\n",
       "      <td>Converted to Lead</td>\n",
       "      <td>India</td>\n",
       "      <td>Select</td>\n",
       "      <td>Other</td>\n",
       "      <td>Unemployed</td>\n",
       "      <td>Better Career Prospects</td>\n",
       "      <td>No</td>\n",
       "      <td>No</td>\n",
       "      <td>No</td>\n",
       "      <td>No</td>\n",
       "      <td>No</td>\n",
       "      <td>No</td>\n",
       "      <td>No</td>\n",
       "      <td>No</td>\n",
       "      <td>Will revert after reading the email</td>\n",
       "      <td>Might be</td>\n",
       "      <td>No</td>\n",
       "      <td>No</td>\n",
       "      <td>Select</td>\n",
       "      <td>Mumbai</td>\n",
       "      <td>02.Medium</td>\n",
       "      <td>01.High</td>\n",
       "      <td>15.0</td>\n",
       "      <td>18.0</td>\n",
       "      <td>No</td>\n",
       "      <td>No</td>\n",
       "      <td>Modified</td>\n",
       "    </tr>\n",
       "  </tbody>\n",
       "</table>\n",
       "</div>"
      ],
      "text/plain": [
       "                            Prospect ID  Lead Number              Lead Origin  \\\n",
       "0  7927b2df-8bba-4d29-b9a2-b6e0beafe620       660737                      API   \n",
       "1  2a272436-5132-4136-86fa-dcc88c88f482       660728                      API   \n",
       "2  8cc8c611-a219-4f35-ad23-fdfd2656bd8a       660727  Landing Page Submission   \n",
       "3  0cc2df48-7cf4-4e39-9de9-19797f9b38cc       660719  Landing Page Submission   \n",
       "4  3256f628-e534-4826-9d63-4a8b88782852       660681  Landing Page Submission   \n",
       "\n",
       "      Lead Source Do Not Email Do Not Call  Converted  TotalVisits  \\\n",
       "0      Olark Chat           No          No          0          0.0   \n",
       "1  Organic Search           No          No          0          5.0   \n",
       "2  Direct Traffic           No          No          1          2.0   \n",
       "3  Direct Traffic           No          No          0          1.0   \n",
       "4          Google           No          No          1          2.0   \n",
       "\n",
       "   Total Time Spent on Website  Page Views Per Visit            Last Activity  \\\n",
       "0                            0                   0.0  Page Visited on Website   \n",
       "1                          674                   2.5             Email Opened   \n",
       "2                         1532                   2.0             Email Opened   \n",
       "3                          305                   1.0              Unreachable   \n",
       "4                         1428                   1.0        Converted to Lead   \n",
       "\n",
       "  Country           Specialization How did you hear about X Education  \\\n",
       "0     NaN                   Select                             Select   \n",
       "1   India                   Select                             Select   \n",
       "2   India  Business Administration                             Select   \n",
       "3   India    Media and Advertising                      Word Of Mouth   \n",
       "4   India                   Select                              Other   \n",
       "\n",
       "  What is your current occupation  \\\n",
       "0                      Unemployed   \n",
       "1                      Unemployed   \n",
       "2                         Student   \n",
       "3                      Unemployed   \n",
       "4                      Unemployed   \n",
       "\n",
       "  What matters most to you in choosing a course Search Magazine  \\\n",
       "0                       Better Career Prospects     No       No   \n",
       "1                       Better Career Prospects     No       No   \n",
       "2                       Better Career Prospects     No       No   \n",
       "3                       Better Career Prospects     No       No   \n",
       "4                       Better Career Prospects     No       No   \n",
       "\n",
       "  Newspaper Article X Education Forums Newspaper Digital Advertisement  \\\n",
       "0                No                 No        No                    No   \n",
       "1                No                 No        No                    No   \n",
       "2                No                 No        No                    No   \n",
       "3                No                 No        No                    No   \n",
       "4                No                 No        No                    No   \n",
       "\n",
       "  Through Recommendations Receive More Updates About Our Courses  \\\n",
       "0                      No                                     No   \n",
       "1                      No                                     No   \n",
       "2                      No                                     No   \n",
       "3                      No                                     No   \n",
       "4                      No                                     No   \n",
       "\n",
       "                                  Tags      Lead Quality  \\\n",
       "0          Interested in other courses  Low in Relevance   \n",
       "1                              Ringing               NaN   \n",
       "2  Will revert after reading the email          Might be   \n",
       "3                              Ringing          Not Sure   \n",
       "4  Will revert after reading the email          Might be   \n",
       "\n",
       "  Update me on Supply Chain Content Get updates on DM Content    Lead Profile  \\\n",
       "0                                No                        No          Select   \n",
       "1                                No                        No          Select   \n",
       "2                                No                        No  Potential Lead   \n",
       "3                                No                        No          Select   \n",
       "4                                No                        No          Select   \n",
       "\n",
       "     City Asymmetrique Activity Index Asymmetrique Profile Index  \\\n",
       "0  Select                   02.Medium                  02.Medium   \n",
       "1  Select                   02.Medium                  02.Medium   \n",
       "2  Mumbai                   02.Medium                    01.High   \n",
       "3  Mumbai                   02.Medium                    01.High   \n",
       "4  Mumbai                   02.Medium                    01.High   \n",
       "\n",
       "   Asymmetrique Activity Score  Asymmetrique Profile Score  \\\n",
       "0                         15.0                        15.0   \n",
       "1                         15.0                        15.0   \n",
       "2                         14.0                        20.0   \n",
       "3                         13.0                        17.0   \n",
       "4                         15.0                        18.0   \n",
       "\n",
       "  I agree to pay the amount through cheque  \\\n",
       "0                                       No   \n",
       "1                                       No   \n",
       "2                                       No   \n",
       "3                                       No   \n",
       "4                                       No   \n",
       "\n",
       "  A free copy of Mastering The Interview Last Notable Activity  \n",
       "0                                     No              Modified  \n",
       "1                                     No          Email Opened  \n",
       "2                                    Yes          Email Opened  \n",
       "3                                     No              Modified  \n",
       "4                                     No              Modified  "
      ]
     },
     "execution_count": 3,
     "metadata": {},
     "output_type": "execute_result"
    }
   ],
   "source": [
    "# Reading the data\n",
    "df.head()"
   ]
  },
  {
   "cell_type": "code",
   "execution_count": 4,
   "metadata": {
    "colab": {
     "base_uri": "https://localhost:8080/"
    },
    "id": "DndHXlBvW0jK",
    "outputId": "aaf51f6e-1919-4e18-bc2f-2efada25ea2d"
   },
   "outputs": [
    {
     "data": {
      "text/plain": [
       "(9240, 37)"
      ]
     },
     "execution_count": 4,
     "metadata": {},
     "output_type": "execute_result"
    }
   ],
   "source": [
    "# Shape of the dataset\n",
    "df.shape"
   ]
  },
  {
   "cell_type": "markdown",
   "metadata": {
    "id": "BvfzYTvJD-Um"
   },
   "source": [
    "The dataset is having 9240 rows and 37 columns"
   ]
  },
  {
   "cell_type": "code",
   "execution_count": 5,
   "metadata": {
    "colab": {
     "base_uri": "https://localhost:8080/"
    },
    "id": "6Y6jZvWFDjzT",
    "outputId": "25b09bd0-f5cf-471e-e09e-d7a15f3d5738"
   },
   "outputs": [
    {
     "name": "stdout",
     "output_type": "stream",
     "text": [
      "<class 'pandas.core.frame.DataFrame'>\n",
      "RangeIndex: 9240 entries, 0 to 9239\n",
      "Data columns (total 37 columns):\n",
      " #   Column                                         Non-Null Count  Dtype  \n",
      "---  ------                                         --------------  -----  \n",
      " 0   Prospect ID                                    9240 non-null   object \n",
      " 1   Lead Number                                    9240 non-null   int64  \n",
      " 2   Lead Origin                                    9240 non-null   object \n",
      " 3   Lead Source                                    9204 non-null   object \n",
      " 4   Do Not Email                                   9240 non-null   object \n",
      " 5   Do Not Call                                    9240 non-null   object \n",
      " 6   Converted                                      9240 non-null   int64  \n",
      " 7   TotalVisits                                    9103 non-null   float64\n",
      " 8   Total Time Spent on Website                    9240 non-null   int64  \n",
      " 9   Page Views Per Visit                           9103 non-null   float64\n",
      " 10  Last Activity                                  9137 non-null   object \n",
      " 11  Country                                        6779 non-null   object \n",
      " 12  Specialization                                 7802 non-null   object \n",
      " 13  How did you hear about X Education             7033 non-null   object \n",
      " 14  What is your current occupation                6550 non-null   object \n",
      " 15  What matters most to you in choosing a course  6531 non-null   object \n",
      " 16  Search                                         9240 non-null   object \n",
      " 17  Magazine                                       9240 non-null   object \n",
      " 18  Newspaper Article                              9240 non-null   object \n",
      " 19  X Education Forums                             9240 non-null   object \n",
      " 20  Newspaper                                      9240 non-null   object \n",
      " 21  Digital Advertisement                          9240 non-null   object \n",
      " 22  Through Recommendations                        9240 non-null   object \n",
      " 23  Receive More Updates About Our Courses         9240 non-null   object \n",
      " 24  Tags                                           5887 non-null   object \n",
      " 25  Lead Quality                                   4473 non-null   object \n",
      " 26  Update me on Supply Chain Content              9240 non-null   object \n",
      " 27  Get updates on DM Content                      9240 non-null   object \n",
      " 28  Lead Profile                                   6531 non-null   object \n",
      " 29  City                                           7820 non-null   object \n",
      " 30  Asymmetrique Activity Index                    5022 non-null   object \n",
      " 31  Asymmetrique Profile Index                     5022 non-null   object \n",
      " 32  Asymmetrique Activity Score                    5022 non-null   float64\n",
      " 33  Asymmetrique Profile Score                     5022 non-null   float64\n",
      " 34  I agree to pay the amount through cheque       9240 non-null   object \n",
      " 35  A free copy of Mastering The Interview         9240 non-null   object \n",
      " 36  Last Notable Activity                          9240 non-null   object \n",
      "dtypes: float64(4), int64(3), object(30)\n",
      "memory usage: 2.6+ MB\n"
     ]
    }
   ],
   "source": [
    "# Info of the dataset\n",
    "df.info()"
   ]
  },
  {
   "cell_type": "markdown",
   "metadata": {
    "id": "ZeGVEtVaEEIC"
   },
   "source": [
    "As we can see from the above, there are 7 numerical variables columns and remaining 30 columns are having categorical variables."
   ]
  },
  {
   "cell_type": "markdown",
   "metadata": {
    "id": "4FFcq_UCFLSX"
   },
   "source": [
    "###  Cleaning the dataframe"
   ]
  },
  {
   "cell_type": "markdown",
   "metadata": {
    "id": "kXutvfdJKl2P"
   },
   "source": [
    "Now, there are some columns/categorical variables having label as 'Select' which means the customer was not selected any option hence it is better to put it as null value - Because there was no suitable option present to select for the customer searching for. "
   ]
  },
  {
   "cell_type": "code",
   "execution_count": 6,
   "metadata": {
    "id": "dYMNpXMwKpEz"
   },
   "outputs": [],
   "source": [
    "# Replacing 'Select' label with nan values\n",
    "df.replace('Select',np.NaN,inplace = True)"
   ]
  },
  {
   "cell_type": "code",
   "execution_count": 7,
   "metadata": {
    "colab": {
     "base_uri": "https://localhost:8080/"
    },
    "id": "HVmIAIDmKx-e",
    "outputId": "f7498b18-e444-481b-dd54-c0fc6f0cbac6"
   },
   "outputs": [
    {
     "data": {
      "text/plain": [
       "How did you hear about X Education    78.463203\n",
       "Lead Quality                          51.590909\n",
       "Lead Profile                          74.188312\n",
       "Asymmetrique Activity Index           45.649351\n",
       "Asymmetrique Profile Index            45.649351\n",
       "Asymmetrique Activity Score           45.649351\n",
       "Asymmetrique Profile Score            45.649351\n",
       "dtype: float64"
      ]
     },
     "execution_count": 7,
     "metadata": {},
     "output_type": "execute_result"
    }
   ],
   "source": [
    "# Selecting the columns with more than 40% null values:\n",
    "null_values = df.isnull().sum()/len(df) *100\n",
    "null_values_40 = null_values[null_values > 40]\n",
    "null_values_40"
   ]
  },
  {
   "cell_type": "code",
   "execution_count": 8,
   "metadata": {
    "id": "7Xv6kko_ZLB8"
   },
   "outputs": [],
   "source": [
    "# Dropping the columns with more than 40% null values:\n",
    "df.drop(null_values_40.index,axis = 1,inplace = True)"
   ]
  },
  {
   "cell_type": "code",
   "execution_count": 9,
   "metadata": {
    "colab": {
     "base_uri": "https://localhost:8080/"
    },
    "id": "1BZHuAw5EGOG",
    "outputId": "5ab23374-070c-464d-b76c-cb71ab37031f"
   },
   "outputs": [
    {
     "name": "stdout",
     "output_type": "stream",
     "text": [
      "Prospect ID : 9240\n",
      "Lead Number : 9240\n",
      "Lead Origin : 5\n",
      "Lead Source : 21\n",
      "Do Not Email : 2\n",
      "Do Not Call : 2\n",
      "Converted : 2\n",
      "TotalVisits : 41\n",
      "Total Time Spent on Website : 1731\n",
      "Page Views Per Visit : 114\n",
      "Last Activity : 17\n",
      "Country : 38\n",
      "Specialization : 18\n",
      "What is your current occupation : 6\n",
      "What matters most to you in choosing a course : 3\n",
      "Search : 2\n",
      "Magazine : 1\n",
      "Newspaper Article : 2\n",
      "X Education Forums : 2\n",
      "Newspaper : 2\n",
      "Digital Advertisement : 2\n",
      "Through Recommendations : 2\n",
      "Receive More Updates About Our Courses : 1\n",
      "Tags : 26\n",
      "Update me on Supply Chain Content : 1\n",
      "Get updates on DM Content : 1\n",
      "City : 6\n",
      "I agree to pay the amount through cheque : 1\n",
      "A free copy of Mastering The Interview : 2\n",
      "Last Notable Activity : 16\n"
     ]
    }
   ],
   "source": [
    "# Printing the unique variables in each column:\n",
    "for cols in df.columns:\n",
    "      print(cols,':',df[cols].nunique())"
   ]
  },
  {
   "cell_type": "markdown",
   "metadata": {
    "id": "87Aul3sYMQAL"
   },
   "source": [
    "There are some columns which contains only one variable and will not contribute to the predicting power of our models."
   ]
  },
  {
   "cell_type": "code",
   "execution_count": 10,
   "metadata": {
    "id": "lS5EdNoOL6pi"
   },
   "outputs": [],
   "source": [
    "# Dropping columns which contains only one variable:\n",
    "for i in df.columns:\n",
    "      if df[i].nunique()==1:\n",
    "        df.drop(i,axis = 1,inplace = True)"
   ]
  },
  {
   "cell_type": "markdown",
   "metadata": {
    "id": "vW0gx0vqAU1l"
   },
   "source": [
    "Now we have some sales genrated data in our dataset which are not required, so we will drop them also."
   ]
  },
  {
   "cell_type": "code",
   "execution_count": 11,
   "metadata": {
    "id": "Ec2bxcbO_aBD"
   },
   "outputs": [],
   "source": [
    "# Selecting the sales data in the column sales_data \n",
    "sales_data  = ['Tags','Last Notable Activity','Last Activity','Prospect ID','Lead Number']"
   ]
  },
  {
   "cell_type": "code",
   "execution_count": 12,
   "metadata": {
    "id": "GecAEjn3Aovj"
   },
   "outputs": [],
   "source": [
    "# Deleting sales data from our dataset\n",
    "df.drop(sales_data,axis =1, inplace= True)"
   ]
  },
  {
   "cell_type": "code",
   "execution_count": 13,
   "metadata": {
    "id": "NySYmtiyB856"
   },
   "outputs": [],
   "source": [
    "# Selecting all the categorical columns:\n",
    "categorical = df.select_dtypes(include='object')"
   ]
  },
  {
   "cell_type": "code",
   "execution_count": 14,
   "metadata": {
    "colab": {
     "base_uri": "https://localhost:8080/"
    },
    "id": "h2zx6BEjB88d",
    "outputId": "57fa4b4d-974d-481e-cc14-7423f4cd9a33"
   },
   "outputs": [
    {
     "name": "stdout",
     "output_type": "stream",
     "text": [
      "5 : Lead Origin\n",
      "21 : Lead Source\n",
      "2 : Do Not Email\n",
      "2 : Do Not Call\n",
      "2 : Converted\n",
      "41 : TotalVisits\n",
      "1731 : Total Time Spent on Website\n",
      "114 : Page Views Per Visit\n",
      "38 : Country\n",
      "18 : Specialization\n",
      "6 : What is your current occupation\n",
      "3 : What matters most to you in choosing a course\n",
      "2 : Search\n",
      "2 : Newspaper Article\n",
      "2 : X Education Forums\n",
      "2 : Newspaper\n",
      "2 : Digital Advertisement\n",
      "2 : Through Recommendations\n",
      "6 : City\n",
      "2 : A free copy of Mastering The Interview\n"
     ]
    }
   ],
   "source": [
    "# Pritning unique values of each categorical columns:\n",
    "for i in df.columns:\n",
    "      print(df[i].nunique(),':',i)"
   ]
  },
  {
   "cell_type": "markdown",
   "metadata": {
    "id": "bt8piL4_Gu4H"
   },
   "source": [
    "Printing the unique value and their percentage in each column:"
   ]
  },
  {
   "cell_type": "code",
   "execution_count": 15,
   "metadata": {
    "colab": {
     "base_uri": "https://localhost:8080/"
    },
    "id": "fc6juAABB9Aa",
    "outputId": "64c49284-a6e9-4bc2-d04d-2f5fafae0e1d"
   },
   "outputs": [
    {
     "data": {
      "text/plain": [
       "No     0.999784\n",
       "Yes    0.000216\n",
       "Name: Do Not Call, dtype: float64"
      ]
     },
     "execution_count": 15,
     "metadata": {},
     "output_type": "execute_result"
    }
   ],
   "source": [
    "df['Do Not Call'].value_counts()/len(categorical)"
   ]
  },
  {
   "cell_type": "code",
   "execution_count": 16,
   "metadata": {
    "colab": {
     "base_uri": "https://localhost:8080/"
    },
    "id": "KFZFKISpEDSE",
    "outputId": "c34db07b-3840-4707-9ad2-618c4f1b4302"
   },
   "outputs": [
    {
     "data": {
      "text/plain": [
       "No     0.998485\n",
       "Yes    0.001515\n",
       "Name: Search, dtype: float64"
      ]
     },
     "execution_count": 16,
     "metadata": {},
     "output_type": "execute_result"
    }
   ],
   "source": [
    "df['Search'].value_counts()/len(categorical)"
   ]
  },
  {
   "cell_type": "code",
   "execution_count": 17,
   "metadata": {
    "colab": {
     "base_uri": "https://localhost:8080/"
    },
    "id": "Waf6RzGgEJqO",
    "outputId": "248c862e-86ee-4610-812c-77faf24dda4a"
   },
   "outputs": [
    {
     "data": {
      "text/plain": [
       "No     0.999784\n",
       "Yes    0.000216\n",
       "Name: Newspaper Article, dtype: float64"
      ]
     },
     "execution_count": 17,
     "metadata": {},
     "output_type": "execute_result"
    }
   ],
   "source": [
    "df['Newspaper Article'].value_counts()/len(categorical)"
   ]
  },
  {
   "cell_type": "code",
   "execution_count": 18,
   "metadata": {
    "colab": {
     "base_uri": "https://localhost:8080/"
    },
    "id": "TIoFUrWpEOlU",
    "outputId": "c17f217c-f8fd-4025-8395-e0589f4f45ee"
   },
   "outputs": [
    {
     "data": {
      "text/plain": [
       "No     0.999892\n",
       "Yes    0.000108\n",
       "Name: X Education Forums, dtype: float64"
      ]
     },
     "execution_count": 18,
     "metadata": {},
     "output_type": "execute_result"
    }
   ],
   "source": [
    "df['X Education Forums'].value_counts()/len(categorical)"
   ]
  },
  {
   "cell_type": "code",
   "execution_count": 19,
   "metadata": {
    "colab": {
     "base_uri": "https://localhost:8080/"
    },
    "id": "z-ZGsWSUEUqE",
    "outputId": "2555a6c0-68ed-4071-dbbd-bff7f7ca2947"
   },
   "outputs": [
    {
     "data": {
      "text/plain": [
       "No     0.999892\n",
       "Yes    0.000108\n",
       "Name: Newspaper, dtype: float64"
      ]
     },
     "execution_count": 19,
     "metadata": {},
     "output_type": "execute_result"
    }
   ],
   "source": [
    "df['Newspaper'].value_counts()/len(categorical)"
   ]
  },
  {
   "cell_type": "code",
   "execution_count": 20,
   "metadata": {
    "colab": {
     "base_uri": "https://localhost:8080/"
    },
    "id": "5nbzl7S3EUsw",
    "outputId": "a4142d2a-ce09-4127-f19e-241f2aada696"
   },
   "outputs": [
    {
     "data": {
      "text/plain": [
       "No     0.999242\n",
       "Yes    0.000758\n",
       "Name: Through Recommendations, dtype: float64"
      ]
     },
     "execution_count": 20,
     "metadata": {},
     "output_type": "execute_result"
    }
   ],
   "source": [
    "df['Through Recommendations'].value_counts()/len(categorical)"
   ]
  },
  {
   "cell_type": "code",
   "execution_count": 21,
   "metadata": {
    "colab": {
     "base_uri": "https://localhost:8080/"
    },
    "id": "GGYYBYVfEUwR",
    "outputId": "6bbbb9d0-d1b8-4c56-d232-dc249f173773"
   },
   "outputs": [
    {
     "data": {
      "text/plain": [
       "No     0.999567\n",
       "Yes    0.000433\n",
       "Name: Digital Advertisement, dtype: float64"
      ]
     },
     "execution_count": 21,
     "metadata": {},
     "output_type": "execute_result"
    }
   ],
   "source": [
    "df['Digital Advertisement'].value_counts()/len(categorical)"
   ]
  },
  {
   "cell_type": "code",
   "execution_count": 22,
   "metadata": {
    "colab": {
     "base_uri": "https://localhost:8080/"
    },
    "id": "atPUZJwWvJgV",
    "outputId": "1ae454d5-dfc8-4be0-e25f-b8b446ba1d32"
   },
   "outputs": [
    {
     "data": {
      "text/plain": [
       "India                   0.702597\n",
       "United States           0.007468\n",
       "United Arab Emirates    0.005736\n",
       "Singapore               0.002597\n",
       "Saudi Arabia            0.002273\n",
       "United Kingdom          0.001623\n",
       "Australia               0.001407\n",
       "Qatar                   0.001082\n",
       "Bahrain                 0.000758\n",
       "Hong Kong               0.000758\n",
       "France                  0.000649\n",
       "Oman                    0.000649\n",
       "unknown                 0.000541\n",
       "South Africa            0.000433\n",
       "Nigeria                 0.000433\n",
       "Germany                 0.000433\n",
       "Canada                  0.000433\n",
       "Kuwait                  0.000433\n",
       "Sweden                  0.000325\n",
       "Ghana                   0.000216\n",
       "Asia/Pacific Region     0.000216\n",
       "Italy                   0.000216\n",
       "Belgium                 0.000216\n",
       "Netherlands             0.000216\n",
       "Uganda                  0.000216\n",
       "Philippines             0.000216\n",
       "Bangladesh              0.000216\n",
       "China                   0.000216\n",
       "Sri Lanka               0.000108\n",
       "Liberia                 0.000108\n",
       "Denmark                 0.000108\n",
       "Malaysia                0.000108\n",
       "Vietnam                 0.000108\n",
       "Indonesia               0.000108\n",
       "Kenya                   0.000108\n",
       "Russia                  0.000108\n",
       "Switzerland             0.000108\n",
       "Tanzania                0.000108\n",
       "Name: Country, dtype: float64"
      ]
     },
     "execution_count": 22,
     "metadata": {},
     "output_type": "execute_result"
    }
   ],
   "source": [
    "df['Country'].value_counts()/len(categorical)"
   ]
  },
  {
   "cell_type": "code",
   "execution_count": 23,
   "metadata": {
    "colab": {
     "base_uri": "https://localhost:8080/"
    },
    "id": "f7OwJMaqvSAQ",
    "outputId": "1e5bc1a5-82a3-4808-b216-9daffcd0cad1"
   },
   "outputs": [
    {
     "data": {
      "text/plain": [
       "Better Career Prospects      6528\n",
       "Flexibility & Convenience       2\n",
       "Other                           1\n",
       "Name: What matters most to you in choosing a course, dtype: int64"
      ]
     },
     "execution_count": 23,
     "metadata": {},
     "output_type": "execute_result"
    }
   ],
   "source": [
    "df['What matters most to you in choosing a course'].value_counts()"
   ]
  },
  {
   "cell_type": "markdown",
   "metadata": {
    "id": "g-LlHiB_HWMO"
   },
   "source": [
    "There are some columns which are having higher frequency for a single variable (<i>greater than 99%</i>) which will not help our model.Thus needs to be deleted.\n",
    "The columns are -:\n",
    "\n",
    "\n",
    "*   'Do Not Call'\n",
    "\n",
    "*   'Search'\n",
    "\n",
    "*   'Newspaper Article'\n",
    "\n",
    "*   'X Education Forums'\n",
    "\n",
    "\n",
    "*   'Newspaper'\n",
    "\n",
    "\n",
    "*   'Through Recommendations'\n",
    "\n",
    "\n",
    "*   'Digital Advertisement\n",
    "\n",
    "\n",
    "*   'What matters most to you in choosing a course'\n",
    "\n",
    "*   'Country'\n",
    "\n",
    "\n",
    "\n",
    "\n",
    "\n",
    "\n"
   ]
  },
  {
   "cell_type": "code",
   "execution_count": 24,
   "metadata": {
    "id": "RaI0KdEJHm5I"
   },
   "outputs": [],
   "source": [
    "# Removing the columns with higher frequency for single variable:\n",
    "removable = ['Do Not Call','Search','Newspaper Article','X Education Forums','Newspaper','Through Recommendations',\n",
    "             'Digital Advertisement','What matters most to you in choosing a course','Country']\n",
    "df = df.drop(removable,axis = 1)"
   ]
  },
  {
   "cell_type": "code",
   "execution_count": 25,
   "metadata": {
    "colab": {
     "base_uri": "https://localhost:8080/"
    },
    "id": "jhCBT5nwwDXe",
    "outputId": "93d1e812-7f79-493b-ce0c-b598fe0dbd2d"
   },
   "outputs": [
    {
     "data": {
      "text/plain": [
       "Lead Origin                                0.000000\n",
       "Lead Source                                0.389610\n",
       "Do Not Email                               0.000000\n",
       "Converted                                  0.000000\n",
       "TotalVisits                                1.482684\n",
       "Total Time Spent on Website                0.000000\n",
       "Page Views Per Visit                       1.482684\n",
       "Specialization                            36.580087\n",
       "What is your current occupation           29.112554\n",
       "City                                      39.707792\n",
       "A free copy of Mastering The Interview     0.000000\n",
       "dtype: float64"
      ]
     },
     "execution_count": 25,
     "metadata": {},
     "output_type": "execute_result"
    }
   ],
   "source": [
    "df.isnull().sum()/len(df) *100"
   ]
  },
  {
   "cell_type": "markdown",
   "metadata": {
    "id": "V1fewDDbn1MZ"
   },
   "source": [
    "There are 3 categorical columns : 'Specialization','What is your current occupation' and 'City'\n",
    "where there are a lot of missing data and we will replace them with mode."
   ]
  },
  {
   "cell_type": "code",
   "execution_count": 26,
   "metadata": {
    "id": "JdsoySgxnZKL"
   },
   "outputs": [],
   "source": [
    "missing_vals = ['Specialization','What is your current occupation','City']"
   ]
  },
  {
   "cell_type": "code",
   "execution_count": 27,
   "metadata": {
    "id": "aVAOfvTFnZNM"
   },
   "outputs": [],
   "source": [
    "for cols in missing_vals:\n",
    "      df[cols].fillna(df[cols].mode()[0],inplace = True)"
   ]
  },
  {
   "cell_type": "code",
   "execution_count": 28,
   "metadata": {
    "colab": {
     "base_uri": "https://localhost:8080/"
    },
    "id": "OXbGy93QnZQt",
    "outputId": "6aae2832-a53a-4058-d542-127010efe1be"
   },
   "outputs": [
    {
     "data": {
      "text/plain": [
       "Lead Origin                               0.00\n",
       "Lead Source                               0.39\n",
       "Do Not Email                              0.00\n",
       "Converted                                 0.00\n",
       "TotalVisits                               1.48\n",
       "Total Time Spent on Website               0.00\n",
       "Page Views Per Visit                      1.48\n",
       "Specialization                            0.00\n",
       "What is your current occupation           0.00\n",
       "City                                      0.00\n",
       "A free copy of Mastering The Interview    0.00\n",
       "dtype: float64"
      ]
     },
     "execution_count": 28,
     "metadata": {},
     "output_type": "execute_result"
    }
   ],
   "source": [
    "# Rechecking the null values:\n",
    "round(100*(df.isnull().sum()/df.shape[0] ),2)"
   ]
  },
  {
   "cell_type": "markdown",
   "metadata": {
    "id": "94yjZo6vlQ0R"
   },
   "source": [
    "As for the remaining null values we will again impute them with their mode as mean value may biased due to presence of outliers in the column."
   ]
  },
  {
   "cell_type": "code",
   "execution_count": 29,
   "metadata": {
    "id": "HShbAAHpjyBw"
   },
   "outputs": [],
   "source": [
    "# Imputing null values with their mode.\n",
    "df['TotalVisits'].fillna(df['TotalVisits'].mode()[0],inplace = True)\n",
    "df['Page Views Per Visit'].fillna(df['Page Views Per Visit'].mode()[0],inplace = True)\n",
    "df['Lead Source'].fillna(df['Lead Source'].mode()[0],inplace = True)"
   ]
  },
  {
   "cell_type": "markdown",
   "metadata": {
    "id": "lXcA0_ghoKB7"
   },
   "source": [
    "There are some categorical columns with 2 variables \"Yes\" and \"No\"  we will replace them with 1 and 0 for better intuition."
   ]
  },
  {
   "cell_type": "code",
   "execution_count": 30,
   "metadata": {
    "id": "gYf-CUyroiti"
   },
   "outputs": [],
   "source": [
    "for cols in df.columns:\n",
    "    if df[cols].nunique()==2:\n",
    "        if cols == 'Converted':\n",
    "              continue\n",
    "    else:\n",
    "          df[cols] = df[cols].map({'Yes':1,'No':0}) "
   ]
  },
  {
   "cell_type": "code",
   "execution_count": 31,
   "metadata": {
    "colab": {
     "base_uri": "https://localhost:8080/",
     "height": 313
    },
    "id": "R_2yXp4uGk7s",
    "outputId": "62784e81-d11f-4df9-8d0b-c78c534b1333"
   },
   "outputs": [
    {
     "data": {
      "text/html": [
       "<div>\n",
       "<style scoped>\n",
       "    .dataframe tbody tr th:only-of-type {\n",
       "        vertical-align: middle;\n",
       "    }\n",
       "\n",
       "    .dataframe tbody tr th {\n",
       "        vertical-align: top;\n",
       "    }\n",
       "\n",
       "    .dataframe thead th {\n",
       "        text-align: right;\n",
       "    }\n",
       "</style>\n",
       "<table border=\"1\" class=\"dataframe\">\n",
       "  <thead>\n",
       "    <tr style=\"text-align: right;\">\n",
       "      <th></th>\n",
       "      <th>Lead Origin</th>\n",
       "      <th>Lead Source</th>\n",
       "      <th>Do Not Email</th>\n",
       "      <th>Converted</th>\n",
       "      <th>TotalVisits</th>\n",
       "      <th>Total Time Spent on Website</th>\n",
       "      <th>Page Views Per Visit</th>\n",
       "      <th>Specialization</th>\n",
       "      <th>What is your current occupation</th>\n",
       "      <th>City</th>\n",
       "      <th>A free copy of Mastering The Interview</th>\n",
       "    </tr>\n",
       "  </thead>\n",
       "  <tbody>\n",
       "    <tr>\n",
       "      <th>0</th>\n",
       "      <td>NaN</td>\n",
       "      <td>NaN</td>\n",
       "      <td>No</td>\n",
       "      <td>0</td>\n",
       "      <td>NaN</td>\n",
       "      <td>NaN</td>\n",
       "      <td>NaN</td>\n",
       "      <td>NaN</td>\n",
       "      <td>NaN</td>\n",
       "      <td>NaN</td>\n",
       "      <td>No</td>\n",
       "    </tr>\n",
       "    <tr>\n",
       "      <th>1</th>\n",
       "      <td>NaN</td>\n",
       "      <td>NaN</td>\n",
       "      <td>No</td>\n",
       "      <td>0</td>\n",
       "      <td>NaN</td>\n",
       "      <td>NaN</td>\n",
       "      <td>NaN</td>\n",
       "      <td>NaN</td>\n",
       "      <td>NaN</td>\n",
       "      <td>NaN</td>\n",
       "      <td>No</td>\n",
       "    </tr>\n",
       "    <tr>\n",
       "      <th>2</th>\n",
       "      <td>NaN</td>\n",
       "      <td>NaN</td>\n",
       "      <td>No</td>\n",
       "      <td>1</td>\n",
       "      <td>NaN</td>\n",
       "      <td>NaN</td>\n",
       "      <td>NaN</td>\n",
       "      <td>NaN</td>\n",
       "      <td>NaN</td>\n",
       "      <td>NaN</td>\n",
       "      <td>Yes</td>\n",
       "    </tr>\n",
       "    <tr>\n",
       "      <th>3</th>\n",
       "      <td>NaN</td>\n",
       "      <td>NaN</td>\n",
       "      <td>No</td>\n",
       "      <td>0</td>\n",
       "      <td>NaN</td>\n",
       "      <td>NaN</td>\n",
       "      <td>NaN</td>\n",
       "      <td>NaN</td>\n",
       "      <td>NaN</td>\n",
       "      <td>NaN</td>\n",
       "      <td>No</td>\n",
       "    </tr>\n",
       "    <tr>\n",
       "      <th>4</th>\n",
       "      <td>NaN</td>\n",
       "      <td>NaN</td>\n",
       "      <td>No</td>\n",
       "      <td>1</td>\n",
       "      <td>NaN</td>\n",
       "      <td>NaN</td>\n",
       "      <td>NaN</td>\n",
       "      <td>NaN</td>\n",
       "      <td>NaN</td>\n",
       "      <td>NaN</td>\n",
       "      <td>No</td>\n",
       "    </tr>\n",
       "  </tbody>\n",
       "</table>\n",
       "</div>"
      ],
      "text/plain": [
       "   Lead Origin  Lead Source Do Not Email  Converted  TotalVisits  \\\n",
       "0          NaN          NaN           No          0          NaN   \n",
       "1          NaN          NaN           No          0          NaN   \n",
       "2          NaN          NaN           No          1          NaN   \n",
       "3          NaN          NaN           No          0          NaN   \n",
       "4          NaN          NaN           No          1          NaN   \n",
       "\n",
       "   Total Time Spent on Website  Page Views Per Visit  Specialization  \\\n",
       "0                          NaN                   NaN             NaN   \n",
       "1                          NaN                   NaN             NaN   \n",
       "2                          NaN                   NaN             NaN   \n",
       "3                          NaN                   NaN             NaN   \n",
       "4                          NaN                   NaN             NaN   \n",
       "\n",
       "   What is your current occupation  City  \\\n",
       "0                              NaN   NaN   \n",
       "1                              NaN   NaN   \n",
       "2                              NaN   NaN   \n",
       "3                              NaN   NaN   \n",
       "4                              NaN   NaN   \n",
       "\n",
       "  A free copy of Mastering The Interview  \n",
       "0                                     No  \n",
       "1                                     No  \n",
       "2                                    Yes  \n",
       "3                                     No  \n",
       "4                                     No  "
      ]
     },
     "execution_count": 31,
     "metadata": {},
     "output_type": "execute_result"
    }
   ],
   "source": [
    "df.head()"
   ]
  },
  {
   "cell_type": "code",
   "execution_count": 32,
   "metadata": {
    "colab": {
     "base_uri": "https://localhost:8080/"
    },
    "id": "VCaTaJ5XG9sy",
    "outputId": "8186215c-3243-4272-9259-7b0beef2773b"
   },
   "outputs": [
    {
     "data": {
      "text/plain": [
       "(9240, 11)"
      ]
     },
     "execution_count": 32,
     "metadata": {},
     "output_type": "execute_result"
    }
   ],
   "source": [
    "df.shape"
   ]
  },
  {
   "cell_type": "code",
   "execution_count": 33,
   "metadata": {
    "colab": {
     "base_uri": "https://localhost:8080/"
    },
    "id": "t5fRrlJODkGh",
    "outputId": "f5e51b53-d5c2-448e-f603-1652b092b74d"
   },
   "outputs": [
    {
     "name": "stdout",
     "output_type": "stream",
     "text": [
      "<class 'pandas.core.frame.DataFrame'>\n",
      "RangeIndex: 9240 entries, 0 to 9239\n",
      "Data columns (total 11 columns):\n",
      " #   Column                                  Non-Null Count  Dtype  \n",
      "---  ------                                  --------------  -----  \n",
      " 0   Lead Origin                             0 non-null      float64\n",
      " 1   Lead Source                             0 non-null      float64\n",
      " 2   Do Not Email                            9240 non-null   object \n",
      " 3   Converted                               9240 non-null   int64  \n",
      " 4   TotalVisits                             0 non-null      float64\n",
      " 5   Total Time Spent on Website             0 non-null      float64\n",
      " 6   Page Views Per Visit                    0 non-null      float64\n",
      " 7   Specialization                          0 non-null      float64\n",
      " 8   What is your current occupation         0 non-null      float64\n",
      " 9   City                                    0 non-null      float64\n",
      " 10  A free copy of Mastering The Interview  9240 non-null   object \n",
      "dtypes: float64(8), int64(1), object(2)\n",
      "memory usage: 794.2+ KB\n"
     ]
    }
   ],
   "source": [
    "df.info()"
   ]
  },
  {
   "cell_type": "markdown",
   "metadata": {
    "id": "FFLM6lAGqQS0"
   },
   "source": [
    "## 2.EDA"
   ]
  },
  {
   "cell_type": "code",
   "execution_count": 34,
   "metadata": {
    "id": "LlwaxhPtDujR"
   },
   "outputs": [],
   "source": [
    "import seaborn as sns\n",
    "import matplotlib.pyplot as plt"
   ]
  },
  {
   "cell_type": "code",
   "execution_count": 35,
   "metadata": {
    "id": "jXcooI26Htcv"
   },
   "outputs": [],
   "source": [
    "correlation  = df.corr()"
   ]
  },
  {
   "cell_type": "code",
   "execution_count": 36,
   "metadata": {
    "colab": {
     "base_uri": "https://localhost:8080/",
     "height": 596
    },
    "id": "7rfH4OnCHw7r",
    "outputId": "90a6d77e-b248-43f3-ca7c-407cd802f959"
   },
   "outputs": [
    {
     "data": {
      "image/png": "[encoded data removed]",
      "text/plain": [
       "<Figure size 1440x720 with 2 Axes>"
      ]
     },
     "metadata": {
      "needs_background": "light"
     },
     "output_type": "display_data"
    }
   ],
   "source": [
    "plt.figure(figsize  = (20,10))\n",
    "sns.heatmap(correlation,annot = True, cmap = 'CMRmap_r')\n",
    "plt.show()"
   ]
  },
  {
   "cell_type": "markdown",
   "metadata": {},
   "source": [
    "## Outlier check"
   ]
  },
  {
   "cell_type": "code",
   "execution_count": 37,
   "metadata": {},
   "outputs": [
    {
     "data": {
      "text/html": [
       "<div>\n",
       "<style scoped>\n",
       "    .dataframe tbody tr th:only-of-type {\n",
       "        vertical-align: middle;\n",
       "    }\n",
       "\n",
       "    .dataframe tbody tr th {\n",
       "        vertical-align: top;\n",
       "    }\n",
       "\n",
       "    .dataframe thead th {\n",
       "        text-align: right;\n",
       "    }\n",
       "</style>\n",
       "<table border=\"1\" class=\"dataframe\">\n",
       "  <thead>\n",
       "    <tr style=\"text-align: right;\">\n",
       "      <th></th>\n",
       "      <th>Lead Origin</th>\n",
       "      <th>Lead Source</th>\n",
       "      <th>Converted</th>\n",
       "      <th>TotalVisits</th>\n",
       "      <th>Total Time Spent on Website</th>\n",
       "      <th>Page Views Per Visit</th>\n",
       "      <th>Specialization</th>\n",
       "      <th>What is your current occupation</th>\n",
       "      <th>City</th>\n",
       "    </tr>\n",
       "  </thead>\n",
       "  <tbody>\n",
       "    <tr>\n",
       "      <th>count</th>\n",
       "      <td>0.0</td>\n",
       "      <td>0.0</td>\n",
       "      <td>9240.00</td>\n",
       "      <td>0.0</td>\n",
       "      <td>0.0</td>\n",
       "      <td>0.0</td>\n",
       "      <td>0.0</td>\n",
       "      <td>0.0</td>\n",
       "      <td>0.0</td>\n",
       "    </tr>\n",
       "    <tr>\n",
       "      <th>mean</th>\n",
       "      <td>NaN</td>\n",
       "      <td>NaN</td>\n",
       "      <td>0.39</td>\n",
       "      <td>NaN</td>\n",
       "      <td>NaN</td>\n",
       "      <td>NaN</td>\n",
       "      <td>NaN</td>\n",
       "      <td>NaN</td>\n",
       "      <td>NaN</td>\n",
       "    </tr>\n",
       "    <tr>\n",
       "      <th>std</th>\n",
       "      <td>NaN</td>\n",
       "      <td>NaN</td>\n",
       "      <td>0.49</td>\n",
       "      <td>NaN</td>\n",
       "      <td>NaN</td>\n",
       "      <td>NaN</td>\n",
       "      <td>NaN</td>\n",
       "      <td>NaN</td>\n",
       "      <td>NaN</td>\n",
       "    </tr>\n",
       "    <tr>\n",
       "      <th>min</th>\n",
       "      <td>NaN</td>\n",
       "      <td>NaN</td>\n",
       "      <td>0.00</td>\n",
       "      <td>NaN</td>\n",
       "      <td>NaN</td>\n",
       "      <td>NaN</td>\n",
       "      <td>NaN</td>\n",
       "      <td>NaN</td>\n",
       "      <td>NaN</td>\n",
       "    </tr>\n",
       "    <tr>\n",
       "      <th>15%</th>\n",
       "      <td>NaN</td>\n",
       "      <td>NaN</td>\n",
       "      <td>0.00</td>\n",
       "      <td>NaN</td>\n",
       "      <td>NaN</td>\n",
       "      <td>NaN</td>\n",
       "      <td>NaN</td>\n",
       "      <td>NaN</td>\n",
       "      <td>NaN</td>\n",
       "    </tr>\n",
       "    <tr>\n",
       "      <th>35%</th>\n",
       "      <td>NaN</td>\n",
       "      <td>NaN</td>\n",
       "      <td>0.00</td>\n",
       "      <td>NaN</td>\n",
       "      <td>NaN</td>\n",
       "      <td>NaN</td>\n",
       "      <td>NaN</td>\n",
       "      <td>NaN</td>\n",
       "      <td>NaN</td>\n",
       "    </tr>\n",
       "    <tr>\n",
       "      <th>50%</th>\n",
       "      <td>NaN</td>\n",
       "      <td>NaN</td>\n",
       "      <td>0.00</td>\n",
       "      <td>NaN</td>\n",
       "      <td>NaN</td>\n",
       "      <td>NaN</td>\n",
       "      <td>NaN</td>\n",
       "      <td>NaN</td>\n",
       "      <td>NaN</td>\n",
       "    </tr>\n",
       "    <tr>\n",
       "      <th>55%</th>\n",
       "      <td>NaN</td>\n",
       "      <td>NaN</td>\n",
       "      <td>0.00</td>\n",
       "      <td>NaN</td>\n",
       "      <td>NaN</td>\n",
       "      <td>NaN</td>\n",
       "      <td>NaN</td>\n",
       "      <td>NaN</td>\n",
       "      <td>NaN</td>\n",
       "    </tr>\n",
       "    <tr>\n",
       "      <th>75%</th>\n",
       "      <td>NaN</td>\n",
       "      <td>NaN</td>\n",
       "      <td>1.00</td>\n",
       "      <td>NaN</td>\n",
       "      <td>NaN</td>\n",
       "      <td>NaN</td>\n",
       "      <td>NaN</td>\n",
       "      <td>NaN</td>\n",
       "      <td>NaN</td>\n",
       "    </tr>\n",
       "    <tr>\n",
       "      <th>95%</th>\n",
       "      <td>NaN</td>\n",
       "      <td>NaN</td>\n",
       "      <td>1.00</td>\n",
       "      <td>NaN</td>\n",
       "      <td>NaN</td>\n",
       "      <td>NaN</td>\n",
       "      <td>NaN</td>\n",
       "      <td>NaN</td>\n",
       "      <td>NaN</td>\n",
       "    </tr>\n",
       "    <tr>\n",
       "      <th>max</th>\n",
       "      <td>NaN</td>\n",
       "      <td>NaN</td>\n",
       "      <td>1.00</td>\n",
       "      <td>NaN</td>\n",
       "      <td>NaN</td>\n",
       "      <td>NaN</td>\n",
       "      <td>NaN</td>\n",
       "      <td>NaN</td>\n",
       "      <td>NaN</td>\n",
       "    </tr>\n",
       "  </tbody>\n",
       "</table>\n",
       "</div>"
      ],
      "text/plain": [
       "       Lead Origin  Lead Source  Converted  TotalVisits  \\\n",
       "count          0.0          0.0    9240.00          0.0   \n",
       "mean           NaN          NaN       0.39          NaN   \n",
       "std            NaN          NaN       0.49          NaN   \n",
       "min            NaN          NaN       0.00          NaN   \n",
       "15%            NaN          NaN       0.00          NaN   \n",
       "35%            NaN          NaN       0.00          NaN   \n",
       "50%            NaN          NaN       0.00          NaN   \n",
       "55%            NaN          NaN       0.00          NaN   \n",
       "75%            NaN          NaN       1.00          NaN   \n",
       "95%            NaN          NaN       1.00          NaN   \n",
       "max            NaN          NaN       1.00          NaN   \n",
       "\n",
       "       Total Time Spent on Website  Page Views Per Visit  Specialization  \\\n",
       "count                          0.0                   0.0             0.0   \n",
       "mean                           NaN                   NaN             NaN   \n",
       "std                            NaN                   NaN             NaN   \n",
       "min                            NaN                   NaN             NaN   \n",
       "15%                            NaN                   NaN             NaN   \n",
       "35%                            NaN                   NaN             NaN   \n",
       "50%                            NaN                   NaN             NaN   \n",
       "55%                            NaN                   NaN             NaN   \n",
       "75%                            NaN                   NaN             NaN   \n",
       "95%                            NaN                   NaN             NaN   \n",
       "max                            NaN                   NaN             NaN   \n",
       "\n",
       "       What is your current occupation  City  \n",
       "count                              0.0   0.0  \n",
       "mean                               NaN   NaN  \n",
       "std                                NaN   NaN  \n",
       "min                                NaN   NaN  \n",
       "15%                                NaN   NaN  \n",
       "35%                                NaN   NaN  \n",
       "50%                                NaN   NaN  \n",
       "55%                                NaN   NaN  \n",
       "75%                                NaN   NaN  \n",
       "95%                                NaN   NaN  \n",
       "max                                NaN   NaN  "
      ]
     },
     "execution_count": 37,
     "metadata": {},
     "output_type": "execute_result"
    }
   ],
   "source": [
    "round(df.describe(percentiles=[0.15,0.35,0.55,0.75,0.95]),2)"
   ]
  },
  {
   "cell_type": "markdown",
   "metadata": {},
   "source": [
    "As we can see there are outliers in 2 variables 'TotalVisits' and 'Page Views Per Visit'."
   ]
  },
  {
   "cell_type": "code",
   "execution_count": 38,
   "metadata": {},
   "outputs": [
    {
     "data": {
      "image/png": "[encoded data removed]",
      "text/plain": [
       "<Figure size 2160x2160 with 3 Axes>"
      ]
     },
     "metadata": {
      "needs_background": "light"
     },
     "output_type": "display_data"
    }
   ],
   "source": [
    "# Setting size of figure, context and gridlines\n",
    "plt.figure(figsize=(30,30))\n",
    "plt.tight_layout()\n",
    "sns.set_style('ticks')\n",
    "sns.set_context('talk')\n",
    "\n",
    "# Title names for the columns in the dataset\n",
    "col={0:'Total Time Spent on Website', 1:'TotalVisits', 2:'Page Views Per Visit'}\n",
    "\n",
    "# Visualising the outliers with boxplot for all the variables \n",
    "for i in range(3):\n",
    "    plt.subplot(3,3,i+1)\n",
    "    plt.title(col[i],fontsize=20)\n",
    "    sns.boxplot(y=df[col[i]], data=df, palette='Set1', fliersize=12)"
   ]
  },
  {
   "cell_type": "markdown",
   "metadata": {},
   "source": [
    "### Univariate Analysis"
   ]
  },
  {
   "cell_type": "code",
   "execution_count": 39,
   "metadata": {},
   "outputs": [
    {
     "ename": "ValueError",
     "evalue": "min() arg is an empty sequence",
     "output_type": "error",
     "traceback": [
      "\u001b[1;31m---------------------------------------------------------------------------\u001b[0m",
      "\u001b[1;31mValueError\u001b[0m                                Traceback (most recent call last)",
      "\u001b[1;32m<ipython-input-39-34d3bfaac1f6>\u001b[0m in \u001b[0;36m<module>\u001b[1;34m\u001b[0m\n\u001b[0;32m      1\u001b[0m \u001b[1;31m# Visualise specialization column\u001b[0m\u001b[1;33m\u001b[0m\u001b[1;33m\u001b[0m\u001b[1;33m\u001b[0m\u001b[0m\n\u001b[0;32m      2\u001b[0m \u001b[0mplt\u001b[0m\u001b[1;33m.\u001b[0m\u001b[0mfigure\u001b[0m\u001b[1;33m(\u001b[0m\u001b[0mfigsize\u001b[0m\u001b[1;33m=\u001b[0m\u001b[1;33m(\u001b[0m\u001b[1;36m15\u001b[0m\u001b[1;33m,\u001b[0m\u001b[1;36m8\u001b[0m\u001b[1;33m)\u001b[0m\u001b[1;33m)\u001b[0m\u001b[1;33m\u001b[0m\u001b[1;33m\u001b[0m\u001b[0m\n\u001b[1;32m----> 3\u001b[1;33m \u001b[0msns\u001b[0m\u001b[1;33m.\u001b[0m\u001b[0mcountplot\u001b[0m\u001b[1;33m(\u001b[0m\u001b[0mdf\u001b[0m\u001b[1;33m[\u001b[0m\u001b[1;34m\"Specialization\"\u001b[0m\u001b[1;33m]\u001b[0m\u001b[1;33m)\u001b[0m\u001b[1;33m\u001b[0m\u001b[1;33m\u001b[0m\u001b[0m\n\u001b[0m\u001b[0;32m      4\u001b[0m \u001b[0mplt\u001b[0m\u001b[1;33m.\u001b[0m\u001b[0mxticks\u001b[0m\u001b[1;33m(\u001b[0m\u001b[0mrotation\u001b[0m \u001b[1;33m=\u001b[0m \u001b[1;36m90\u001b[0m\u001b[1;33m)\u001b[0m\u001b[1;33m\u001b[0m\u001b[1;33m\u001b[0m\u001b[0m\n",
      "\u001b[1;32mI:\\Softwares\\Others\\Anaconda3\\Install\\lib\\site-packages\\seaborn\\_decorators.py\u001b[0m in \u001b[0;36minner_f\u001b[1;34m(*args, **kwargs)\u001b[0m\n\u001b[0;32m     44\u001b[0m             )\n\u001b[0;32m     45\u001b[0m         \u001b[0mkwargs\u001b[0m\u001b[1;33m.\u001b[0m\u001b[0mupdate\u001b[0m\u001b[1;33m(\u001b[0m\u001b[1;33m{\u001b[0m\u001b[0mk\u001b[0m\u001b[1;33m:\u001b[0m \u001b[0marg\u001b[0m \u001b[1;32mfor\u001b[0m \u001b[0mk\u001b[0m\u001b[1;33m,\u001b[0m \u001b[0marg\u001b[0m \u001b[1;32min\u001b[0m \u001b[0mzip\u001b[0m\u001b[1;33m(\u001b[0m\u001b[0msig\u001b[0m\u001b[1;33m.\u001b[0m\u001b[0mparameters\u001b[0m\u001b[1;33m,\u001b[0m \u001b[0margs\u001b[0m\u001b[1;33m)\u001b[0m\u001b[1;33m}\u001b[0m\u001b[1;33m)\u001b[0m\u001b[1;33m\u001b[0m\u001b[1;33m\u001b[0m\u001b[0m\n\u001b[1;32m---> 46\u001b[1;33m         \u001b[1;32mreturn\u001b[0m \u001b[0mf\u001b[0m\u001b[1;33m(\u001b[0m\u001b[1;33m**\u001b[0m\u001b[0mkwargs\u001b[0m\u001b[1;33m)\u001b[0m\u001b[1;33m\u001b[0m\u001b[1;33m\u001b[0m\u001b[0m\n\u001b[0m\u001b[0;32m     47\u001b[0m     \u001b[1;32mreturn\u001b[0m \u001b[0minner_f\u001b[0m\u001b[1;33m\u001b[0m\u001b[1;33m\u001b[0m\u001b[0m\n\u001b[0;32m     48\u001b[0m \u001b[1;33m\u001b[0m\u001b[0m\n",
      "\u001b[1;32mI:\\Softwares\\Others\\Anaconda3\\Install\\lib\\site-packages\\seaborn\\categorical.py\u001b[0m in \u001b[0;36mcountplot\u001b[1;34m(x, y, hue, data, order, hue_order, orient, color, palette, saturation, dodge, ax, **kwargs)\u001b[0m\n\u001b[0;32m   3593\u001b[0m         \u001b[1;32mraise\u001b[0m \u001b[0mValueError\u001b[0m\u001b[1;33m(\u001b[0m\u001b[1;34m\"Cannot pass values for both `x` and `y`\"\u001b[0m\u001b[1;33m)\u001b[0m\u001b[1;33m\u001b[0m\u001b[1;33m\u001b[0m\u001b[0m\n\u001b[0;32m   3594\u001b[0m \u001b[1;33m\u001b[0m\u001b[0m\n\u001b[1;32m-> 3595\u001b[1;33m     plotter = _CountPlotter(\n\u001b[0m\u001b[0;32m   3596\u001b[0m         \u001b[0mx\u001b[0m\u001b[1;33m,\u001b[0m \u001b[0my\u001b[0m\u001b[1;33m,\u001b[0m \u001b[0mhue\u001b[0m\u001b[1;33m,\u001b[0m \u001b[0mdata\u001b[0m\u001b[1;33m,\u001b[0m \u001b[0morder\u001b[0m\u001b[1;33m,\u001b[0m \u001b[0mhue_order\u001b[0m\u001b[1;33m,\u001b[0m\u001b[1;33m\u001b[0m\u001b[1;33m\u001b[0m\u001b[0m\n\u001b[0;32m   3597\u001b[0m         \u001b[0mestimator\u001b[0m\u001b[1;33m,\u001b[0m \u001b[0mci\u001b[0m\u001b[1;33m,\u001b[0m \u001b[0mn_boot\u001b[0m\u001b[1;33m,\u001b[0m \u001b[0munits\u001b[0m\u001b[1;33m,\u001b[0m \u001b[0mseed\u001b[0m\u001b[1;33m,\u001b[0m\u001b[1;33m\u001b[0m\u001b[1;33m\u001b[0m\u001b[0m\n",
      "\u001b[1;32mI:\\Softwares\\Others\\Anaconda3\\Install\\lib\\site-packages\\seaborn\\categorical.py\u001b[0m in \u001b[0;36m__init__\u001b[1;34m(self, x, y, hue, data, order, hue_order, estimator, ci, n_boot, units, seed, orient, color, palette, saturation, errcolor, errwidth, capsize, dodge)\u001b[0m\n\u001b[0;32m   1584\u001b[0m         self.establish_variables(x, y, hue, data, orient,\n\u001b[0;32m   1585\u001b[0m                                  order, hue_order, units)\n\u001b[1;32m-> 1586\u001b[1;33m         \u001b[0mself\u001b[0m\u001b[1;33m.\u001b[0m\u001b[0mestablish_colors\u001b[0m\u001b[1;33m(\u001b[0m\u001b[0mcolor\u001b[0m\u001b[1;33m,\u001b[0m \u001b[0mpalette\u001b[0m\u001b[1;33m,\u001b[0m \u001b[0msaturation\u001b[0m\u001b[1;33m)\u001b[0m\u001b[1;33m\u001b[0m\u001b[1;33m\u001b[0m\u001b[0m\n\u001b[0m\u001b[0;32m   1587\u001b[0m         \u001b[0mself\u001b[0m\u001b[1;33m.\u001b[0m\u001b[0mestimate_statistic\u001b[0m\u001b[1;33m(\u001b[0m\u001b[0mestimator\u001b[0m\u001b[1;33m,\u001b[0m \u001b[0mci\u001b[0m\u001b[1;33m,\u001b[0m \u001b[0mn_boot\u001b[0m\u001b[1;33m,\u001b[0m \u001b[0mseed\u001b[0m\u001b[1;33m)\u001b[0m\u001b[1;33m\u001b[0m\u001b[1;33m\u001b[0m\u001b[0m\n\u001b[0;32m   1588\u001b[0m \u001b[1;33m\u001b[0m\u001b[0m\n",
      "\u001b[1;32mI:\\Softwares\\Others\\Anaconda3\\Install\\lib\\site-packages\\seaborn\\categorical.py\u001b[0m in \u001b[0;36mestablish_colors\u001b[1;34m(self, color, palette, saturation)\u001b[0m\n\u001b[0;32m    317\u001b[0m         \u001b[1;31m# Determine the gray color to use for the lines framing the plot\u001b[0m\u001b[1;33m\u001b[0m\u001b[1;33m\u001b[0m\u001b[1;33m\u001b[0m\u001b[0m\n\u001b[0;32m    318\u001b[0m         \u001b[0mlight_vals\u001b[0m \u001b[1;33m=\u001b[0m \u001b[1;33m[\u001b[0m\u001b[0mcolorsys\u001b[0m\u001b[1;33m.\u001b[0m\u001b[0mrgb_to_hls\u001b[0m\u001b[1;33m(\u001b[0m\u001b[1;33m*\u001b[0m\u001b[0mc\u001b[0m\u001b[1;33m)\u001b[0m\u001b[1;33m[\u001b[0m\u001b[1;36m1\u001b[0m\u001b[1;33m]\u001b[0m \u001b[1;32mfor\u001b[0m \u001b[0mc\u001b[0m \u001b[1;32min\u001b[0m \u001b[0mrgb_colors\u001b[0m\u001b[1;33m]\u001b[0m\u001b[1;33m\u001b[0m\u001b[1;33m\u001b[0m\u001b[0m\n\u001b[1;32m--> 319\u001b[1;33m         \u001b[0mlum\u001b[0m \u001b[1;33m=\u001b[0m \u001b[0mmin\u001b[0m\u001b[1;33m(\u001b[0m\u001b[0mlight_vals\u001b[0m\u001b[1;33m)\u001b[0m \u001b[1;33m*\u001b[0m \u001b[1;36m.6\u001b[0m\u001b[1;33m\u001b[0m\u001b[1;33m\u001b[0m\u001b[0m\n\u001b[0m\u001b[0;32m    320\u001b[0m         \u001b[0mgray\u001b[0m \u001b[1;33m=\u001b[0m \u001b[0mmpl\u001b[0m\u001b[1;33m.\u001b[0m\u001b[0mcolors\u001b[0m\u001b[1;33m.\u001b[0m\u001b[0mrgb2hex\u001b[0m\u001b[1;33m(\u001b[0m\u001b[1;33m(\u001b[0m\u001b[0mlum\u001b[0m\u001b[1;33m,\u001b[0m \u001b[0mlum\u001b[0m\u001b[1;33m,\u001b[0m \u001b[0mlum\u001b[0m\u001b[1;33m)\u001b[0m\u001b[1;33m)\u001b[0m\u001b[1;33m\u001b[0m\u001b[1;33m\u001b[0m\u001b[0m\n\u001b[0;32m    321\u001b[0m \u001b[1;33m\u001b[0m\u001b[0m\n",
      "\u001b[1;31mValueError\u001b[0m: min() arg is an empty sequence"
     ]
    },
    {
     "data": {
      "text/plain": [
       "<Figure size 1080x576 with 0 Axes>"
      ]
     },
     "metadata": {},
     "output_type": "display_data"
    }
   ],
   "source": [
    "# Visualise specialization column\n",
    "plt.figure(figsize=(15,8))\n",
    "sns.countplot(df[\"Specialization\"])\n",
    "plt.xticks(rotation = 90)"
   ]
  },
  {
   "cell_type": "markdown",
   "metadata": {},
   "source": [
    "<b>Inference</b>:  \n",
    "\n",
    "          1. \"Finance Management\" is mostly choosen by the people.\n",
    "          2. There are equal number of the people opted for HR Management and Marketing Management."
   ]
  },
  {
   "cell_type": "code",
   "execution_count": null,
   "metadata": {},
   "outputs": [],
   "source": [
    "# visualise Lead Origin column\n",
    "plt.figure(figsize=(15,5))\n",
    "sns.countplot(x = \"Lead Origin\", hue = \"Converted\", data = df)\n",
    "plt.legend(loc=\"upper right\")\n",
    "plt.show()"
   ]
  },
  {
   "cell_type": "markdown",
   "metadata": {},
   "source": [
    "<b>Inference</b>:\n",
    "\n",
    "            1. API and Landing Page Submission have 30-35% conversion rate but count of lead originated from them are       \n",
    "               considerable.\n",
    "            2. Lead Add Form has more than 90% conversion rate but count of lead are not very high.\n",
    "            3. Lead Import are very less in count.\n"
   ]
  },
  {
   "cell_type": "code",
   "execution_count": null,
   "metadata": {},
   "outputs": [],
   "source": [
    "# visualise Lead Source column\n",
    "fig, axs = plt.subplots(figsize = (20,7))\n",
    "sns.countplot(x = \"Lead Source\", hue = \"Converted\", data = df)\n",
    "plt.xticks(rotation = 90)"
   ]
  },
  {
   "cell_type": "markdown",
   "metadata": {},
   "source": [
    "<b>Inference</b>:\n",
    "\n",
    "          1. Google and Direct traffic generates maximum number of leads.\n",
    "          2. Conversion Rate of reference leads and leads through welingak website is high."
   ]
  },
  {
   "cell_type": "code",
   "execution_count": null,
   "metadata": {},
   "outputs": [],
   "source": [
    "# Visualise the time spent on website using seaborn-boxplot.\n",
    "plt.figure(figsize=(6,5))\n",
    "sns.boxplot(y = 'Total Time Spent on Website', x = 'Converted', data = df)\n",
    "plt.show()"
   ]
  },
  {
   "cell_type": "markdown",
   "metadata": {},
   "source": [
    "<b>Inference:</b>\n",
    "\n",
    "          Leads spending more time on the website are more likely to be converted."
   ]
  },
  {
   "cell_type": "code",
   "execution_count": null,
   "metadata": {},
   "outputs": [],
   "source": [
    "# Visualise the data on number of views over a page\n",
    "plt.figure(figsize=(8,6))\n",
    "sns.boxplot(y = 'Page Views Per Visit', x = 'Converted', data = df)\n",
    "plt.ylim(0, 25)\n",
    "plt.show()"
   ]
  },
  {
   "cell_type": "markdown",
   "metadata": {},
   "source": [
    "<b>Inference:</b>\n",
    "    \n",
    "    Median value for converted and unconverted leads is same."
   ]
  },
  {
   "cell_type": "markdown",
   "metadata": {
    "id": "TiK8Abblq3xZ"
   },
   "source": [
    "###Dummy variables creation"
   ]
  },
  {
   "cell_type": "code",
   "execution_count": null,
   "metadata": {
    "colab": {
     "base_uri": "https://localhost:8080/"
    },
    "id": "1TOz5qosqW1G",
    "outputId": "8adbf8aa-ef0b-4d26-ad4e-2bd807c0b8bf"
   },
   "outputs": [],
   "source": [
    "df.info()"
   ]
  },
  {
   "cell_type": "code",
   "execution_count": null,
   "metadata": {
    "colab": {
     "base_uri": "https://localhost:8080/"
    },
    "id": "GF3AdZj_IEXg",
    "outputId": "dcbbe914-9326-4b51-b9dc-714500b4dbca"
   },
   "outputs": [],
   "source": [
    "# Selecting all the categoriacal columns:\n",
    "categorical_cols = df.select_dtypes(include = 'object')\n",
    "categorical_cols.shape"
   ]
  },
  {
   "cell_type": "code",
   "execution_count": null,
   "metadata": {
    "colab": {
     "base_uri": "https://localhost:8080/"
    },
    "id": "x7AKWpbuImmo",
    "outputId": "8f7ae5ce-b542-4ca8-d1b6-58a99ead5b0f"
   },
   "outputs": [],
   "source": [
    "# Creating dummy variables:\n",
    "dummy =  pd.get_dummies(categorical_cols,drop_first= True)\n",
    "dummy.shape"
   ]
  },
  {
   "cell_type": "code",
   "execution_count": null,
   "metadata": {
    "id": "hy1DjLsRI-5m"
   },
   "outputs": [],
   "source": [
    "# Dropping the original columns and merging the dummy variables:\n",
    "df.drop(categorical_cols.columns,axis = 1,inplace = True)\n",
    "df = pd.concat((df,dummy),axis = 1)\n"
   ]
  },
  {
   "cell_type": "code",
   "execution_count": null,
   "metadata": {
    "colab": {
     "base_uri": "https://localhost:8080/",
     "height": 283
    },
    "id": "xGfD5yWIJ1md",
    "outputId": "1e826e18-b78b-49f3-c4d0-e46b4ba94b9c"
   },
   "outputs": [],
   "source": [
    "# Checking the dataframe\n",
    "df.head()"
   ]
  },
  {
   "cell_type": "code",
   "execution_count": null,
   "metadata": {
    "colab": {
     "base_uri": "https://localhost:8080/"
    },
    "id": "Yg2cShk00j0K",
    "outputId": "ddfc1d07-fdda-4b57-f43a-b7713cc82141"
   },
   "outputs": [],
   "source": [
    "df.shape"
   ]
  },
  {
   "cell_type": "markdown",
   "metadata": {
    "id": "J6svlKeO0cai"
   },
   "source": [
    "### Splitting the dataset into test and train"
   ]
  },
  {
   "cell_type": "code",
   "execution_count": null,
   "metadata": {
    "id": "gSk5f0NBJpAY"
   },
   "outputs": [],
   "source": [
    "x = df.drop('Converted',axis =1)\n",
    "y  = df['Converted']"
   ]
  },
  {
   "cell_type": "code",
   "execution_count": null,
   "metadata": {
    "id": "2RZj0howLlDc"
   },
   "outputs": [],
   "source": [
    "from sklearn.model_selection import train_test_split\n",
    "x_train,x_test,y_train,y_test = train_test_split(x,y,train_size = 0.8,random_state = 11)"
   ]
  },
  {
   "cell_type": "markdown",
   "metadata": {
    "id": "99ap8JKX0vSz"
   },
   "source": [
    "### Rescaling the train features:"
   ]
  },
  {
   "cell_type": "code",
   "execution_count": null,
   "metadata": {
    "colab": {
     "base_uri": "https://localhost:8080/",
     "height": 283
    },
    "id": "wuohMrcZ1W66",
    "outputId": "f447aa67-63ba-43d5-941c-c65b5ff10c8a"
   },
   "outputs": [],
   "source": [
    "# Import MinMax scaler\n",
    "from sklearn.preprocessing import MinMaxScaler\n",
    "# Scale the three numeric features\n",
    "scaler = MinMaxScaler()\n",
    "x_train[['TotalVisits','Page Views Per Visit','Total Time Spent on Website']] = scaler.fit_transform(x_train[['TotalVisits', 'Page Views Per Visit', 'Total Time Spent on Website']])\n",
    "x_train.head()"
   ]
  },
  {
   "cell_type": "markdown",
   "metadata": {
    "id": "fnBznWom1_2_"
   },
   "source": [
    "##   4.Model building"
   ]
  },
  {
   "cell_type": "markdown",
   "metadata": {
    "id": "_tPSb2o62oA0"
   },
   "source": [
    "### Using RFE"
   ]
  },
  {
   "cell_type": "markdown",
   "metadata": {
    "id": "gAsSLMl_2ZqQ"
   },
   "source": [
    "Since there are a lot of features we will select only the top 15 using RFE and do manual tuning "
   ]
  },
  {
   "cell_type": "code",
   "execution_count": null,
   "metadata": {
    "colab": {
     "base_uri": "https://localhost:8080/"
    },
    "id": "94RW_UlgL48L",
    "outputId": "a7fb52f8-c1ad-4875-d82b-a5458334d882"
   },
   "outputs": [],
   "source": [
    "# Since the total number of variables are a lot, using RFE to calculate the best 15 variables to be used for model building\n",
    "from sklearn.linear_model import LogisticRegression\n",
    "from sklearn.feature_selection import RFE\n",
    "lr = LogisticRegression()\n",
    "rfe = RFE(lr,15)\n",
    "rfe = rfe.fit(x_train,y_train)\n",
    "list(zip(x_train.columns,rfe.support_,rfe.ranking_))"
   ]
  },
  {
   "cell_type": "code",
   "execution_count": null,
   "metadata": {
    "id": "6pwQYj5QN9me"
   },
   "outputs": [],
   "source": [
    "# Selecting columns only which are 'True' in rfem.support_ i.e True columns were selected for creating a model\n",
    "cols = x_train.columns[rfe.support_]\n",
    "x_train = x_train[cols]"
   ]
  },
  {
   "cell_type": "markdown",
   "metadata": {
    "id": "qNTcd9nS4VvP"
   },
   "source": [
    "###VIF"
   ]
  },
  {
   "cell_type": "code",
   "execution_count": null,
   "metadata": {
    "id": "MF4p4PY2OAvA"
   },
   "outputs": [],
   "source": [
    "from statsmodels.stats.outliers_influence import variance_inflation_factor\n",
    "\n",
    "\n",
    "# Defining a function to calculate the VIF:\n",
    "\n",
    "    \n",
    "def VIF(X):\n",
    "    vif = pd.DataFrame()\n",
    "    vif['Features'] = X.columns\n",
    "    vif['VIF'] = [variance_inflation_factor(X.values, i) for i in range(X.shape[1])]\n",
    "    vif['VIF'] = round(vif['VIF'], 2)\n",
    "    vif = vif.sort_values(by = \"VIF\", ascending = False)\n",
    "    return vif"
   ]
  },
  {
   "cell_type": "markdown",
   "metadata": {
    "id": "gkcCN9Gt4-D_"
   },
   "source": [
    "### First model"
   ]
  },
  {
   "cell_type": "code",
   "execution_count": null,
   "metadata": {
    "colab": {
     "base_uri": "https://localhost:8080/"
    },
    "id": "epRaf8ug5IQE",
    "outputId": "7838e268-e066-45b7-a06d-401d202ec415"
   },
   "outputs": [],
   "source": [
    "#  Training the model\n",
    "import statsmodels.api as sm\n",
    "\n",
    "x_train_sm  =  sm.add_constant(x_train)\n",
    "log_1 = sm.GLM(y_train,x_train_sm,family=sm.families.Binomial())\n",
    "model_1 = log_1.fit()\n",
    "print(model_1.summary())"
   ]
  },
  {
   "cell_type": "code",
   "execution_count": null,
   "metadata": {
    "colab": {
     "base_uri": "https://localhost:8080/",
     "height": 494
    },
    "id": "4YmLt_cZPIwQ",
    "outputId": "46f5ba74-bc94-4f44-ab26-d6e70d46461e"
   },
   "outputs": [],
   "source": [
    "# Calculating the VIF\n",
    "VIF(x_train)"
   ]
  },
  {
   "cell_type": "markdown",
   "metadata": {
    "id": "ZoyOxZByPp6y"
   },
   "source": [
    "### Second model"
   ]
  },
  {
   "cell_type": "markdown",
   "metadata": {
    "id": "Zl6x8Md45zAG"
   },
   "source": [
    " Dropping the column 'What is your current occupation_Unemployed' as it has high p value."
   ]
  },
  {
   "cell_type": "code",
   "execution_count": null,
   "metadata": {
    "id": "Vx7SG1fKPaUe"
   },
   "outputs": [],
   "source": [
    "# Dropping the column 'What is your current occupation_Unemployed'\n",
    "cols = cols.drop('What is your current occupation_Unemployed')\n",
    "x_train = x_train[cols]"
   ]
  },
  {
   "cell_type": "code",
   "execution_count": null,
   "metadata": {
    "colab": {
     "base_uri": "https://localhost:8080/"
    },
    "id": "QwRfKEEq6Bj3",
    "outputId": "6dc587a2-7f94-409d-94fd-267c0c7a78af"
   },
   "outputs": [],
   "source": [
    "# Training the second model\n",
    "x_train_sm  =  sm.add_constant(x_train)\n",
    "log_2 = sm.GLM(y_train,x_train_sm,family=sm.families.Binomial())\n",
    "model_2 = log_2.fit()\n",
    "print(model_2.summary())"
   ]
  },
  {
   "cell_type": "markdown",
   "metadata": {
    "id": "azAiwPTI6byj"
   },
   "source": [
    "Calculating the VIF"
   ]
  },
  {
   "cell_type": "code",
   "execution_count": null,
   "metadata": {
    "colab": {
     "base_uri": "https://localhost:8080/",
     "height": 465
    },
    "id": "B7RfbSn3P677",
    "outputId": "054ca42f-d9ee-46b1-c272-9baa4872763e"
   },
   "outputs": [],
   "source": [
    "# Calculating the VIF\n",
    "VIF(x_train)"
   ]
  },
  {
   "cell_type": "markdown",
   "metadata": {
    "id": "3hf0E_WG7fyU"
   },
   "source": [
    "### Third Model"
   ]
  },
  {
   "cell_type": "markdown",
   "metadata": {
    "id": "brd28TjANE3F"
   },
   "source": [
    " Dropping the column 'Lead Source_google' as it has high p value."
   ]
  },
  {
   "cell_type": "code",
   "execution_count": null,
   "metadata": {
    "id": "K94Leo0LM5G7"
   },
   "outputs": [],
   "source": [
    "# Dropping the column 'Lead Source_google'\n",
    "cols = cols.drop('Lead Source_google')\n",
    "x_train = x_train[cols]"
   ]
  },
  {
   "cell_type": "code",
   "execution_count": null,
   "metadata": {
    "colab": {
     "base_uri": "https://localhost:8080/"
    },
    "id": "E_ZjXyrSM5PR",
    "outputId": "aa497e8b-4cda-4a66-bda6-6ecf862d5128"
   },
   "outputs": [],
   "source": [
    "# Training the second model\n",
    "x_train_sm  =  sm.add_constant(x_train)\n",
    "log_3 = sm.GLM(y_train,x_train_sm,family=sm.families.Binomial())\n",
    "model_3 = log_3.fit()\n",
    "print(model_3.summary())"
   ]
  },
  {
   "cell_type": "code",
   "execution_count": null,
   "metadata": {
    "colab": {
     "base_uri": "https://localhost:8080/",
     "height": 435
    },
    "id": "S6L-kpYjM5SB",
    "outputId": "e71dd751-6e4b-40a1-f750-d53f948c7374"
   },
   "outputs": [],
   "source": [
    "# Calculating the VIF\n",
    "VIF(x_train)"
   ]
  },
  {
   "cell_type": "markdown",
   "metadata": {
    "id": "o_6fvspqspC5"
   },
   "source": [
    "### Fourth Model"
   ]
  },
  {
   "cell_type": "markdown",
   "metadata": {
    "id": "gAHwfckUNhW4"
   },
   "source": [
    " Dropping the column 'What is your current occupation_Housewife' as it has high p value."
   ]
  },
  {
   "cell_type": "code",
   "execution_count": null,
   "metadata": {
    "id": "02ati04bM5Ux"
   },
   "outputs": [],
   "source": [
    "# Dropping the column 'What is your current occupation_Housewife'\n",
    "cols = cols.drop('What is your current occupation_Housewife')\n",
    "x_train = x_train[cols]"
   ]
  },
  {
   "cell_type": "code",
   "execution_count": null,
   "metadata": {
    "colab": {
     "base_uri": "https://localhost:8080/"
    },
    "id": "Y7u2xKiuM5Xl",
    "outputId": "0c12feb6-ed74-449d-abcb-205213c9ea1e"
   },
   "outputs": [],
   "source": [
    "# Training the model\n",
    "x_train_sm  =  sm.add_constant(x_train)\n",
    "log_4 = sm.GLM(y_train,x_train_sm,family=sm.families.Binomial())\n",
    "model_4 = log_4.fit()\n",
    "print(model_4.summary())"
   ]
  },
  {
   "cell_type": "code",
   "execution_count": null,
   "metadata": {
    "colab": {
     "base_uri": "https://localhost:8080/",
     "height": 405
    },
    "id": "81E59JjYM5Zu",
    "outputId": "daf0a4c0-888c-4478-f972-49bd67b4a0d7"
   },
   "outputs": [],
   "source": [
    "# Calculating the VIF\n",
    "VIF(x_train)"
   ]
  },
  {
   "cell_type": "markdown",
   "metadata": {
    "id": "z1vS-Qx579aH"
   },
   "source": [
    "### Fifth model"
   ]
  },
  {
   "cell_type": "code",
   "execution_count": null,
   "metadata": {
    "id": "8iuzS2Vz8HFr"
   },
   "outputs": [],
   "source": [
    "# Dropping the column 'What is your current occupation_Other'\n",
    "cols = cols.drop('What is your current occupation_Other')\n",
    "x_train = x_train[cols]"
   ]
  },
  {
   "cell_type": "code",
   "execution_count": null,
   "metadata": {
    "colab": {
     "base_uri": "https://localhost:8080/"
    },
    "id": "C8lbQm2qOMuJ",
    "outputId": "73028ebb-3d87-4b0f-8cb6-6d2bb5412df5"
   },
   "outputs": [],
   "source": [
    "# Training the model\n",
    "x_train_sm  =  sm.add_constant(x_train)\n",
    "log_5 = sm.GLM(y_train,x_train_sm,family=sm.families.Binomial())\n",
    "model_5 = log_5.fit()\n",
    "print(model_5.summary())"
   ]
  },
  {
   "cell_type": "code",
   "execution_count": null,
   "metadata": {
    "colab": {
     "base_uri": "https://localhost:8080/",
     "height": 375
    },
    "id": "E1-_wnXltG_P",
    "outputId": "c70273ec-c07e-47c0-986b-93e8a5d8446a"
   },
   "outputs": [],
   "source": [
    "# Calculating the VIF\n",
    "VIF(x_train)"
   ]
  },
  {
   "cell_type": "markdown",
   "metadata": {
    "id": "hrYCPtMUyG6G"
   },
   "source": [
    "### Sixth model"
   ]
  },
  {
   "cell_type": "code",
   "execution_count": null,
   "metadata": {
    "id": "H-Ue72krOMxL"
   },
   "outputs": [],
   "source": [
    "# Dropping the column 'What is your current occupation_Student'\n",
    "cols = cols.drop('What is your current occupation_Student')\n",
    "x_train = x_train[cols]"
   ]
  },
  {
   "cell_type": "code",
   "execution_count": null,
   "metadata": {
    "colab": {
     "base_uri": "https://localhost:8080/"
    },
    "id": "9KKwetBCOMzw",
    "outputId": "17c6587b-ca08-4e6b-d90e-60a11c963b0a"
   },
   "outputs": [],
   "source": [
    "# Training the model\n",
    "x_train_sm  =  sm.add_constant(x_train)\n",
    "log_6 = sm.GLM(y_train,x_train_sm,family=sm.families.Binomial())\n",
    "model_6 = log_6.fit()\n",
    "print(model_6.summary())"
   ]
  },
  {
   "cell_type": "code",
   "execution_count": null,
   "metadata": {
    "colab": {
     "base_uri": "https://localhost:8080/",
     "height": 345
    },
    "id": "SdrCdtsVyPiK",
    "outputId": "519a2878-3be1-4320-c5cd-c782c1b6215a"
   },
   "outputs": [],
   "source": [
    "# Calculating the VIF\n",
    "VIF(x_train)"
   ]
  },
  {
   "cell_type": "markdown",
   "metadata": {
    "id": "h52_tFNRyakz"
   },
   "source": [
    "### Seventh model"
   ]
  },
  {
   "cell_type": "code",
   "execution_count": null,
   "metadata": {
    "id": "pyUzeKLpOM2F"
   },
   "outputs": [],
   "source": [
    "# Dropping the column 'Specialization_Rural and Agribusiness'\n",
    "cols = cols.drop('Specialization_Retail Management')\n",
    "x_train = x_train[cols]"
   ]
  },
  {
   "cell_type": "code",
   "execution_count": null,
   "metadata": {
    "colab": {
     "base_uri": "https://localhost:8080/"
    },
    "id": "VXlxqIv7OM4t",
    "outputId": "d277d1f8-abd5-44fc-8dcf-b18a615b1f06"
   },
   "outputs": [],
   "source": [
    "# Training the model\n",
    "x_train_sm  =  sm.add_constant(x_train)\n",
    "log_7 = sm.GLM(y_train,x_train_sm,family=sm.families.Binomial())\n",
    "model_7 = log_7.fit()\n",
    "print(model_7.summary())"
   ]
  },
  {
   "cell_type": "code",
   "execution_count": null,
   "metadata": {
    "colab": {
     "base_uri": "https://localhost:8080/",
     "height": 316
    },
    "id": "AjVcSFY8OM9j",
    "outputId": "373b0c80-9201-4477-e340-bfaf393f5a22"
   },
   "outputs": [],
   "source": [
    "# Calculating the VIF\n",
    "VIF(x_train)"
   ]
  },
  {
   "cell_type": "markdown",
   "metadata": {
    "id": "04ueX5MkUIlA"
   },
   "source": [
    "We can select this model as the variables are significant and has low VIF."
   ]
  },
  {
   "cell_type": "markdown",
   "metadata": {
    "id": "FqK1zkrs8gUx"
   },
   "source": [
    "## 5.Creating a prediction on train set"
   ]
  },
  {
   "cell_type": "code",
   "execution_count": null,
   "metadata": {
    "id": "gO7JV-A2QzQR"
   },
   "outputs": [],
   "source": [
    "# Predicting the train dataset with our final model\n",
    "y_train_pred = model_7.predict(x_train_sm)\n",
    "\n",
    "# Reshaping to an array\n",
    "y_train_pred =  y_train_pred.values.reshape(-1)"
   ]
  },
  {
   "cell_type": "code",
   "execution_count": null,
   "metadata": {
    "colab": {
     "base_uri": "https://localhost:8080/",
     "height": 196
    },
    "id": "aNzSx77zRuTQ",
    "outputId": "5cfa72dd-2c62-49d7-ff29-5f0f4beacf20"
   },
   "outputs": [],
   "source": [
    "# Creating a new dataset and saving predicted values in it\n",
    "\n",
    "y_train_pred_final = pd.DataFrame({'churn':y_train,\n",
    "                                   'churn_proba': y_train_pred})\n",
    "y_train_pred_final.head()"
   ]
  },
  {
   "cell_type": "code",
   "execution_count": null,
   "metadata": {
    "colab": {
     "base_uri": "https://localhost:8080/",
     "height": 196
    },
    "id": "mYhOWxU0Ru0o",
    "outputId": "6713b651-8eda-467e-9715-cb9e0f0f25aa"
   },
   "outputs": [],
   "source": [
    "# Substituting 0 or 1 with the cut off as 0.5 in the varaible 'predicted' for the values of predicted probablility.\n",
    "y_train_pred_final['predicted'] = y_train_pred_final['churn_proba'].map(lambda x: 1 if x>0.5 else 0)\n",
    "y_train_pred_final.head()"
   ]
  },
  {
   "cell_type": "markdown",
   "metadata": {
    "id": "FvZ3uR1D_B0i"
   },
   "source": [
    "### Model evaluation"
   ]
  },
  {
   "cell_type": "code",
   "execution_count": null,
   "metadata": {
    "id": "E98ZgXEVRu3j"
   },
   "outputs": [],
   "source": [
    "from sklearn.metrics import accuracy_score\n",
    "from sklearn.metrics import confusion_matrix\n",
    "from sklearn.metrics import classification_report\n",
    "from sklearn.metrics import roc_curve\n",
    "from sklearn.metrics import roc_auc_score\n",
    "from sklearn.metrics import precision_recall_curve"
   ]
  },
  {
   "cell_type": "code",
   "execution_count": null,
   "metadata": {
    "colab": {
     "base_uri": "https://localhost:8080/"
    },
    "id": "f_wfCgUbSM5L",
    "outputId": "08acd2cb-f838-420d-84f8-f6cc9d9f61ad"
   },
   "outputs": [],
   "source": [
    "# Looking at the confusion matrix for the train set.\n",
    "confusion = confusion_matrix(y_train_pred_final.churn,y_train_pred_final.predicted)\n",
    "print(confusion)"
   ]
  },
  {
   "cell_type": "code",
   "execution_count": null,
   "metadata": {
    "colab": {
     "base_uri": "https://localhost:8080/"
    },
    "id": "qZVSz87XSf05",
    "outputId": "1e946b05-da25-482b-a78e-f70e1237c7c4"
   },
   "outputs": [],
   "source": [
    "# Looking at the accuracy score for the train dataset\n",
    "score = accuracy_score(y_train_pred_final.churn,y_train_pred_final.predicted)\n",
    "score"
   ]
  },
  {
   "cell_type": "markdown",
   "metadata": {
    "id": "nN-llIWjFB1S"
   },
   "source": [
    "With the current cut off as 0.5 we have an accuracy around 79%."
   ]
  },
  {
   "cell_type": "code",
   "execution_count": null,
   "metadata": {
    "id": "o6Cp_GDsS_fi"
   },
   "outputs": [],
   "source": [
    "tp = confusion[1][1]  # true positives\n",
    "tn = confusion[0][0] # true negatives\n",
    "fp = confusion[0][1]  # false positives\n",
    "fn = confusion[1][0]  # false negatives"
   ]
  },
  {
   "cell_type": "code",
   "execution_count": null,
   "metadata": {
    "colab": {
     "base_uri": "https://localhost:8080/"
    },
    "id": "Ywvzm254TIio",
    "outputId": "5efd1704-0460-4781-c271-b1adfc3eefe2"
   },
   "outputs": [],
   "source": [
    "# Checking sensitivity and specificity of the train dataset.\n",
    "sensi  = tp/(tp+fn)\n",
    "print('Sensitivity',\":\",round(sensi,2))\n",
    "speci = tn/(tn+fp)\n",
    "print('Specificity',\":\",round(speci,2))"
   ]
  },
  {
   "cell_type": "markdown",
   "metadata": {
    "id": "B-RKMLDx9vz0"
   },
   "source": [
    "Looking at the sensitivity and specificity we can say that we need to set a different cutoff for the probability"
   ]
  },
  {
   "cell_type": "markdown",
   "metadata": {
    "id": "rr8cl5hWAdYo"
   },
   "source": [
    "### ROC curve"
   ]
  },
  {
   "cell_type": "code",
   "execution_count": null,
   "metadata": {
    "id": "zu-dITP8TZrl"
   },
   "outputs": [],
   "source": [
    "def draw_roc( actual, probs ):\n",
    "    fpr, tpr, thresholds = roc_curve( actual, probs,\n",
    "                                              drop_intermediate = False )\n",
    "    auc_score = roc_auc_score( actual, probs )\n",
    "    plt.figure(figsize=(5, 5))\n",
    "    plt.plot( fpr, tpr, label='ROC curve (area = %0.2f)' % auc_score )\n",
    "    plt.plot([0, 1], [0, 1], 'k--')\n",
    "    plt.xlim([0.0, 1.0])\n",
    "    plt.ylim([0.0, 1.05])\n",
    "    plt.xlabel('False Positive Rate or [1 - True Negative Rate]')\n",
    "    plt.ylabel('True Positive Rate')\n",
    "    plt.title('Receiver operating characteristic example')\n",
    "    plt.legend(loc=\"lower right\")\n",
    "    plt.show()\n",
    "\n",
    "    return None"
   ]
  },
  {
   "cell_type": "code",
   "execution_count": null,
   "metadata": {
    "colab": {
     "base_uri": "https://localhost:8080/",
     "height": 350
    },
    "id": "rLgzTQ0eThgi",
    "outputId": "5046c980-9563-49a9-c4df-88af11f61e6e"
   },
   "outputs": [],
   "source": [
    "# Plotting the curve\n",
    "draw_roc(y_train_pred_final.churn, y_train_pred_final.churn_proba)"
   ]
  },
  {
   "cell_type": "code",
   "execution_count": null,
   "metadata": {
    "colab": {
     "base_uri": "https://localhost:8080/"
    },
    "id": "xPsW_4gaTpVV",
    "outputId": "337e5e19-c313-4436-ec4d-1dae9a7e9535"
   },
   "outputs": [],
   "source": [
    "# Checking the roc score\n",
    "roc_score = roc_auc_score(y_train_pred_final['churn'],y_train_pred_final['churn_proba'])\n",
    "roc_score"
   ]
  },
  {
   "cell_type": "markdown",
   "metadata": {
    "id": "9BYPKueQFXMT"
   },
   "source": [
    "The area under ROC curve is 0.84 which is a very good value."
   ]
  },
  {
   "cell_type": "markdown",
   "metadata": {
    "id": "WGUK0ZQFB68g"
   },
   "source": [
    "Even though we selected the cutoff at random the roc score is pretty good."
   ]
  },
  {
   "cell_type": "markdown",
   "metadata": {
    "id": "mwviHzZbCLeL"
   },
   "source": [
    "We can plot the sensitivity VS specificity graph to check the optimum cutoff value."
   ]
  },
  {
   "cell_type": "markdown",
   "metadata": {
    "id": "Q8rV-frACfPC"
   },
   "source": [
    "### Sensitivity Vs specificity graph"
   ]
  },
  {
   "cell_type": "code",
   "execution_count": null,
   "metadata": {
    "colab": {
     "base_uri": "https://localhost:8080/",
     "height": 196
    },
    "id": "YqzwtyJuUMma",
    "outputId": "4b1b487b-3a3f-47d5-c122-89ccff2fdc0b"
   },
   "outputs": [],
   "source": [
    "'''Creating a dataframe to see the values of accuracy, sensitivity, and \n",
    "   specificity at different values of probabiity cutoffs'''\n",
    "cuttoff_df = pd.DataFrame(columns=['prob','accuracy','sensi','speci'])\n",
    "\n",
    "# Making confusing matrix to find values of sensitivity, accurace and specificity for each level of probablity\n",
    "num = [0.0,0.1,0.2,0.3,0.4,0.5,0.6,0.7,0.8,0.9]\n",
    "for i in num:\n",
    "  y_train_pred_final[i] = y_train_pred_final.churn_proba.map(lambda x : 1 if x >i else  0 )\n",
    "  con = confusion_matrix(y_train_pred_final.churn,y_train_pred_final[i])\n",
    "  tn  = con[0][0]\n",
    "  fp = con[0][1]\n",
    "  tp = con[1][1]\n",
    "  fn = con[1][0]\n",
    "  prob = i\n",
    "  accuracy =round((tp+tn)/(tp+tn+fp+fn),2)\n",
    "  sensi = round((tp /(tp+fn)),2)\n",
    "  speci = round((tn / (tn+fp)),2)\n",
    "  cuttoff_df.loc[i] =[i,accuracy,sensi,speci] \n",
    "\n",
    "  \n",
    "\n",
    "cuttoff_df.head()"
   ]
  },
  {
   "cell_type": "code",
   "execution_count": null,
   "metadata": {
    "colab": {
     "base_uri": "https://localhost:8080/",
     "height": 279
    },
    "id": "JrEMptkuUhGh",
    "outputId": "b3794382-c0a6-44fb-eec9-a53e0c17f552"
   },
   "outputs": [],
   "source": [
    "# Plotting it\n",
    "cuttoff_df.plot.line(x = 'prob' ,y= ['accuracy','sensi','speci'])\n",
    "plt.show()"
   ]
  },
  {
   "cell_type": "markdown",
   "metadata": {
    "id": "2OS4KWxsARXx"
   },
   "source": [
    "### Precision vs Recall graph"
   ]
  },
  {
   "cell_type": "code",
   "execution_count": null,
   "metadata": {
    "colab": {
     "base_uri": "https://localhost:8080/",
     "height": 265
    },
    "id": "az0Irew80U-p",
    "outputId": "f9db03da-faa5-4bf7-e128-39e931b56843"
   },
   "outputs": [],
   "source": [
    "# Precision vs recall graph\n",
    "p,r,thresh = precision_recall_curve(y_train_pred_final.churn,y_train_pred_final.churn_proba)\n",
    "plt.plot(thresh,p[:-1],'g-')\n",
    "plt.plot(thresh,r[:-1],'r-')\n",
    "plt.show()"
   ]
  },
  {
   "cell_type": "markdown",
   "metadata": {
    "id": "zTIr4CIV0bu5"
   },
   "source": [
    "### Tuning the model"
   ]
  },
  {
   "cell_type": "markdown",
   "metadata": {
    "id": "X7Pb1LsEGOVI"
   },
   "source": [
    "From the graph it is visible that the optimal cut off is at 0.25"
   ]
  },
  {
   "cell_type": "code",
   "execution_count": null,
   "metadata": {
    "id": "OoVVXLA5GieJ"
   },
   "outputs": [],
   "source": [
    "y_train_pred_final['predicted'] = y_train_pred_final['churn_proba'].map(lambda x: 1 if x>0.25 else 0)"
   ]
  },
  {
   "cell_type": "code",
   "execution_count": null,
   "metadata": {
    "colab": {
     "base_uri": "https://localhost:8080/"
    },
    "id": "SJZlfdWWGqk_",
    "outputId": "345a472c-6cb8-4199-aa71-26375f5afbc1"
   },
   "outputs": [],
   "source": [
    "# Looking at the confusion matrix for the train set.\n",
    "confusion = confusion_matrix(y_train_pred_final.churn,y_train_pred_final.predicted)\n",
    "print(confusion)"
   ]
  },
  {
   "cell_type": "code",
   "execution_count": null,
   "metadata": {
    "colab": {
     "base_uri": "https://localhost:8080/"
    },
    "id": "xvDxHRMnGqnu",
    "outputId": "47139c69-63d1-4ebe-934b-e2b78fff77ee"
   },
   "outputs": [],
   "source": [
    "# Looking at the accuracy score for the train dataset\n",
    "score = accuracy_score(y_train_pred_final.churn,y_train_pred_final.predicted)\n",
    "score"
   ]
  },
  {
   "cell_type": "markdown",
   "metadata": {
    "id": "Q5rn4Ntw_D6w"
   },
   "source": [
    "We have an accuracy of 0.78 on the train set which is good."
   ]
  },
  {
   "cell_type": "code",
   "execution_count": null,
   "metadata": {
    "id": "AQtt2plMGqqf"
   },
   "outputs": [],
   "source": [
    "tp = confusion[1][1]  # true positives\n",
    "tn = confusion[0][0] # true negatives\n",
    "fp = confusion[0][1]  # false positives\n",
    "fn = confusion[1][0]  # false negatives"
   ]
  },
  {
   "cell_type": "code",
   "execution_count": null,
   "metadata": {
    "colab": {
     "base_uri": "https://localhost:8080/"
    },
    "id": "Uq1nK2g_Gqtj",
    "outputId": "8b953b71-26d0-4af9-d019-fbc3ee1a0433"
   },
   "outputs": [],
   "source": [
    "# Checking sensitivity and specificity of the train dataset.\n",
    "sensi  = tp/(tp+fn)\n",
    "print('Sensitivity',\":\",round(sensi,2))\n",
    "speci = tn/(tn+fp)\n",
    "print('Specificity',\":\",round(speci,2))"
   ]
  },
  {
   "cell_type": "markdown",
   "metadata": {
    "id": "09QHTUjY1l5T"
   },
   "source": [
    "Here on the train set we have Sensitivity of .78 while the Specificity is 0.78 which is good."
   ]
  },
  {
   "cell_type": "markdown",
   "metadata": {
    "id": "BEnNw4NhVVxb"
   },
   "source": [
    "##  6.Creating prediction on the test set"
   ]
  },
  {
   "cell_type": "markdown",
   "metadata": {
    "id": "TcPaM7ws2CjI"
   },
   "source": [
    "### Scaling the test dataset"
   ]
  },
  {
   "cell_type": "code",
   "execution_count": null,
   "metadata": {
    "id": "OQ7cnTwwIY3e"
   },
   "outputs": [],
   "source": [
    "x_test[['TotalVisits','Page Views Per Visit',\n",
    "        'Total Time Spent on Website']] = scaler.fit_transform(x_test[['TotalVisits', 'Page Views Per Visit',\n",
    "                                                                       'Total Time Spent on Website']])"
   ]
  },
  {
   "cell_type": "code",
   "execution_count": null,
   "metadata": {
    "id": "0l4TLPYoVSIU"
   },
   "outputs": [],
   "source": [
    "x_test  = x_test[cols]"
   ]
  },
  {
   "cell_type": "markdown",
   "metadata": {
    "id": "iXf2Guo52Hu1"
   },
   "source": [
    "### Making predictions"
   ]
  },
  {
   "cell_type": "code",
   "execution_count": null,
   "metadata": {
    "id": "4NEujC_KVZjW"
   },
   "outputs": [],
   "source": [
    "x_test_sm = sm.add_constant(x_test)\n",
    "y_test_pred = model_7.predict(x_test_sm)"
   ]
  },
  {
   "cell_type": "markdown",
   "metadata": {
    "id": "AQMdutOQ2PKX"
   },
   "source": [
    "### Model evaluation"
   ]
  },
  {
   "cell_type": "code",
   "execution_count": null,
   "metadata": {
    "colab": {
     "base_uri": "https://localhost:8080/",
     "height": 196
    },
    "id": "zij1r_xGVgf9",
    "outputId": "65f4456f-667f-4427-e501-f3df02ce25e4"
   },
   "outputs": [],
   "source": [
    "# Creating a dataframe\n",
    "y_pred_1 = pd.DataFrame(y_test_pred)\n",
    "y_pred_1.rename(columns= {0:'churn_proba'},inplace= True)\n",
    "y_pred_1['churn'] = y_test\n",
    "# Predicting the outcomes with probability cutoff as 0.25 by creating new columns in the final test dataset\n",
    "y_pred_1['predicted'] = y_pred_1['churn_proba'].map(lambda x:1 if x>0.25 else 0)\n",
    "y_pred_1.head()"
   ]
  },
  {
   "cell_type": "code",
   "execution_count": null,
   "metadata": {
    "colab": {
     "base_uri": "https://localhost:8080/"
    },
    "id": "Tdz9hNmZgDZd",
    "outputId": "42bb3da9-4b5c-462f-cd27-a1777ae36de0"
   },
   "outputs": [],
   "source": [
    "# Looking at the confusion matrix for the test set.\n",
    "confusion = confusion_matrix(y_pred_1['churn'],y_pred_1['predicted'])\n",
    "print(confusion)"
   ]
  },
  {
   "cell_type": "code",
   "execution_count": null,
   "metadata": {
    "colab": {
     "base_uri": "https://localhost:8080/"
    },
    "id": "BYRIBrri-gTB",
    "outputId": "c995f0c9-cf58-49e9-929a-281e6af0d440"
   },
   "outputs": [],
   "source": [
    "# Looking at the accuracy score for the train dataset\n",
    "score = accuracy_score(y_pred_1['churn'],y_pred_1['predicted'])\n",
    "score"
   ]
  },
  {
   "cell_type": "markdown",
   "metadata": {
    "id": "1fU7Nd97_5E4"
   },
   "source": [
    "Here on the test set we have an accuracy of .78 which is good."
   ]
  },
  {
   "cell_type": "code",
   "execution_count": null,
   "metadata": {
    "id": "NImgzC1AgQBP"
   },
   "outputs": [],
   "source": [
    "tp = confusion[1][1]  # true positives\n",
    "tn = confusion[0][0]  # true negatives\n",
    "fp = confusion[0][1]  # false positives\n",
    "fn = confusion[1][0]  # false negatives"
   ]
  },
  {
   "cell_type": "code",
   "execution_count": null,
   "metadata": {
    "colab": {
     "base_uri": "https://localhost:8080/"
    },
    "id": "cb_V1LzHgUBm",
    "outputId": "b719726e-8ca6-4b74-d660-d37a7fea4996"
   },
   "outputs": [],
   "source": [
    "# Checking sensitivity and specificity of the test dataset.\n",
    "sensi  = tp/(tp+fn)\n",
    "print('Sensitivity',\":\",round(sensi,2))\n",
    "speci = tn/(tn+fp)\n",
    "print('Specificity',\":\",round(speci,2))"
   ]
  },
  {
   "cell_type": "markdown",
   "metadata": {
    "id": "niAazaaH4C6V"
   },
   "source": [
    "Here we have a Sensitivity of .78 and Specificity of .79 on the test set."
   ]
  },
  {
   "cell_type": "markdown",
   "metadata": {
    "id": "zGWWRx6x392d"
   },
   "source": [
    "### ROC curve"
   ]
  },
  {
   "cell_type": "code",
   "execution_count": null,
   "metadata": {
    "id": "olgte1lFgV2T"
   },
   "outputs": [],
   "source": [
    "def draw_roc( actual, probs ):\n",
    "    fpr, tpr, thresholds = roc_curve( actual, probs,\n",
    "                                              drop_intermediate = False )\n",
    "    auc_score = roc_auc_score( actual, probs )\n",
    "    plt.figure(figsize=(5, 5))\n",
    "    plt.plot( fpr, tpr, label='ROC curve (area = %0.2f)' % auc_score )\n",
    "    plt.plot([0, 1], [0, 1], 'k--')\n",
    "    plt.xlim([0.0, 1.0])\n",
    "    plt.ylim([0.0, 1.05])\n",
    "    plt.xlabel('False Positive Rate or [1 - True Negative Rate]')\n",
    "    plt.ylabel('True Positive Rate')\n",
    "    plt.title('Receiver operating characteristic example')\n",
    "    plt.legend(loc=\"lower right\")\n",
    "    plt.show()\n",
    "\n",
    "    return None"
   ]
  },
  {
   "cell_type": "code",
   "execution_count": null,
   "metadata": {
    "colab": {
     "base_uri": "https://localhost:8080/",
     "height": 350
    },
    "id": "MOI9GWmn4A05",
    "outputId": "6c3c9ffb-e0ff-42f1-de4e-d05df4c9f2a3"
   },
   "outputs": [],
   "source": [
    "# Plotting the curve\n",
    "draw_roc(y_pred_1['churn'],y_pred_1['churn_proba'])"
   ]
  },
  {
   "cell_type": "code",
   "execution_count": null,
   "metadata": {
    "colab": {
     "base_uri": "https://localhost:8080/"
    },
    "id": "arPJYNAc4IoQ",
    "outputId": "ba6e89e1-0580-4f6e-e70d-23e1bd94b02f"
   },
   "outputs": [],
   "source": [
    "# Checking the roc score\n",
    "roc_score = roc_auc_score(y_pred_1['churn'],y_pred_1['churn_proba'])\n",
    "roc_score"
   ]
  },
  {
   "cell_type": "markdown",
   "metadata": {
    "id": "qHrgB2nl4N5Q"
   },
   "source": [
    "Here we a roc socre of .84 which is good."
   ]
  },
  {
   "cell_type": "markdown",
   "metadata": {
    "id": "Q8_In7sE4bQf"
   },
   "source": [
    "### Sensitivity Vs specificity graph"
   ]
  },
  {
   "cell_type": "code",
   "execution_count": null,
   "metadata": {
    "colab": {
     "base_uri": "https://localhost:8080/",
     "height": 196
    },
    "id": "9xrHbi49AghQ",
    "outputId": "150216c5-4121-45d0-9db7-62c5160db3c0"
   },
   "outputs": [],
   "source": [
    "'''Creating a dataframe to see the values of accuracy, sensitivity, and specificity \n",
    "    at different values of probabiity cutoffs'''\n",
    "cuttoff_df = pd.DataFrame(columns=['prob','accuracy','sensi','speci'])\n",
    "\n",
    "# Making confusing matrix to find values of sensitivity, accurace and specificity for each level of probablity\n",
    "num = [0.0,0.1,0.2,0.3,0.4,0.5,0.6,0.7,0.8,0.9]\n",
    "for i in num:\n",
    "    y_pred_1[i] =y_pred_1['churn_proba'].map(lambda x : 1 if x >i else  0 )\n",
    "    con = confusion_matrix(y_pred_1['churn'],y_pred_1[i])\n",
    "    tn  = con[0][0]\n",
    "    fp = con[0][1]\n",
    "    tp = con[1][1]\n",
    "    fn = con[1][0]\n",
    "    prob = i\n",
    "    accuracy =round((tp+tn)/(tp+tn+fp+fn),2)\n",
    "    sensi = round((tp /(tp+fn)),2)\n",
    "    speci = round((tn / (tn+fp)),2)\n",
    "    cuttoff_df.loc[i] =[i,accuracy,sensi,speci] \n",
    "\n",
    "  \n",
    "cuttoff_df.head()"
   ]
  },
  {
   "cell_type": "code",
   "execution_count": null,
   "metadata": {
    "colab": {
     "base_uri": "https://localhost:8080/",
     "height": 279
    },
    "id": "lP1fcYfcBRku",
    "outputId": "c95a125e-140b-450d-e98c-7978b57c5ce5"
   },
   "outputs": [],
   "source": [
    "# Plotting it\n",
    "cuttoff_df.plot.line(x = 'prob' ,y= ['accuracy','sensi','speci'])\n",
    "plt.show()"
   ]
  },
  {
   "cell_type": "markdown",
   "metadata": {
    "id": "267EfXYKBfEL"
   },
   "source": [
    "### Precision vs Recall graph"
   ]
  },
  {
   "cell_type": "code",
   "execution_count": null,
   "metadata": {
    "colab": {
     "base_uri": "https://localhost:8080/",
     "height": 265
    },
    "id": "3rNgGRIC4Lkx",
    "outputId": "164f1eb5-83fd-42d7-dff9-05335483e59e"
   },
   "outputs": [],
   "source": [
    "# Precision vs recall graph\n",
    "p,r,thresh = precision_recall_curve(y_pred_1['churn'],y_pred_1['churn_proba'])\n",
    "plt.plot(thresh,p[:-1],'g-')\n",
    "plt.plot(thresh,r[:-1],'r-')\n",
    "plt.show()"
   ]
  },
  {
   "cell_type": "markdown",
   "metadata": {
    "id": "GK0vcKt6DuyN"
   },
   "source": [
    "## 7.Conclusion"
   ]
  },
  {
   "cell_type": "markdown",
   "metadata": {
    "id": "0uHp7M66D5T2"
   },
   "source": [
    "<b>Valuable Insights</b> -\n",
    "\n",
    "\n",
    "     - The Accuracy, Precision and Recall score we got from test set are present in acceptable range.\n",
    "     - We have high recall score than precision score as per the requirement.\n",
    "     - In business terms, this model has an ability to adjust with the company’s requirements in coming future.\n",
    "     - This concludes that the model is in stable state.\n",
    "     - Important features responsible for good conversion rate or the ones' which contributes more towards the probability                of a lead getting converted are as follows-\n",
    "         * Total Time Spent on Website\n",
    "         * Total visits to the website ,and\n",
    "         * Lead_origin_Lead Add Form"
   ]
  },
  {
   "cell_type": "code",
   "execution_count": null,
   "metadata": {},
   "outputs": [],
   "source": []
  }
 ],
 "metadata": {
  "colab": {
   "collapsed_sections": [],
   "name": "lead_final.ipynb",
   "provenance": []
  },
  "kernelspec": {
   "display_name": "Python 3",
   "language": "python",
   "name": "python3"
  },
  "language_info": {
   "codemirror_mode": {
    "name": "ipython",
    "version": 3
   },
   "file_extension": ".py",
   "mimetype": "text/x-python",
   "name": "python",
   "nbconvert_exporter": "python",
   "pygments_lexer": "ipython3",
   "version": "3.8.10"
  }
 },
 "nbformat": 4,
 "nbformat_minor": 1
}
